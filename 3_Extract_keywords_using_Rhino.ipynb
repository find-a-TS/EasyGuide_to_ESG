{
 "cells": [
  {
   "cell_type": "markdown",
   "metadata": {},
   "source": [
    "# KR-WordRank\n",
    "- 비지도학습으로 한국어 텍스트에서 키워드를 자동으로 추출해주는 라이브러리\n",
    "- **주요 가정 : 단어 주변에는 단어가 등장하며, 올바른 단어는 주위의 많은 단어들과 연결되어 있다. 따라서 단어는 주위 단어들에 의하여 단어 점수가 보강(reinforced)된다.**\n",
    "- [KR-WordRank Reference](https://github.com/lovit/KR-WordRank)\n",
    "- [Setup]\n",
    "```\n",
    "pip install krwordrank\n",
    "```"
   ]
  },
  {
   "cell_type": "markdown",
   "metadata": {},
   "source": [
    "### 전체 파일 합치기\n",
    "- [지속가능경영보고서 DB](https://www.ksa.or.kr/ksi/4982/subview.do)에서 추출한 pdf 파일을 변환하여 진행"
   ]
  },
  {
   "cell_type": "code",
   "execution_count": 1,
   "metadata": {},
   "outputs": [],
   "source": [
    "import os\n",
    "os.chdir('../data/')"
   ]
  },
  {
   "cell_type": "code",
   "execution_count": 2,
   "metadata": {},
   "outputs": [
    {
     "data": {
      "text/html": [
       "<div>\n",
       "<style scoped>\n",
       "    .dataframe tbody tr th:only-of-type {\n",
       "        vertical-align: middle;\n",
       "    }\n",
       "\n",
       "    .dataframe tbody tr th {\n",
       "        vertical-align: top;\n",
       "    }\n",
       "\n",
       "    .dataframe thead th {\n",
       "        text-align: right;\n",
       "    }\n",
       "</style>\n",
       "<table border=\"1\" class=\"dataframe\">\n",
       "  <thead>\n",
       "    <tr style=\"text-align: right;\">\n",
       "      <th></th>\n",
       "      <th>year</th>\n",
       "      <th>fileName</th>\n",
       "      <th>text</th>\n",
       "      <th>rhino_preprocessing</th>\n",
       "      <th>keywords</th>\n",
       "    </tr>\n",
       "  </thead>\n",
       "  <tbody>\n",
       "  </tbody>\n",
       "</table>\n",
       "</div>"
      ],
      "text/plain": [
       "Empty DataFrame\n",
       "Columns: [year, fileName, text, rhino_preprocessing, keywords]\n",
       "Index: []"
      ]
     },
     "execution_count": 2,
     "metadata": {},
     "output_type": "execute_result"
    }
   ],
   "source": [
    "import pandas as pd\n",
    "import numpy as np\n",
    "from tqdm import tqdm, tqdm_pandas\n",
    "\n",
    "year = [str(x) for x in range(2018, 2022)]   # 2018 ~ 2021\n",
    "df = pd.DataFrame(columns = ['year', 'fileName', 'text', 'rhino_preprocessing', 'keywords'])\n",
    "df"
   ]
  },
  {
   "cell_type": "code",
   "execution_count": 3,
   "metadata": {},
   "outputs": [
    {
     "name": "stderr",
     "output_type": "stream",
     "text": [
      "100%|██████████| 4/4 [00:01<00:00,  3.79it/s]\n"
     ]
    }
   ],
   "source": [
    "for y in tqdm(year):\n",
    "    fileList = os.listdir('./' + y)\n",
    "    for file in fileList:\n",
    "        with open('./' + y + '/' + file, 'r') as f:\n",
    "            text = f.read().splitlines()\n",
    "        if text and text[0].strip():\n",
    "            df_slice = pd.Series([y, file, text[0].strip(), 0, 0], index = df.columns)\n",
    "            df = df.append(df_slice, ignore_index = True)\n",
    "# df.to_csv('rhino_all_before_preprocessing.csv', index = False)"
   ]
  },
  {
   "cell_type": "code",
   "execution_count": 4,
   "metadata": {
    "scrolled": true
   },
   "outputs": [
    {
     "data": {
      "text/html": [
       "<div>\n",
       "<style scoped>\n",
       "    .dataframe tbody tr th:only-of-type {\n",
       "        vertical-align: middle;\n",
       "    }\n",
       "\n",
       "    .dataframe tbody tr th {\n",
       "        vertical-align: top;\n",
       "    }\n",
       "\n",
       "    .dataframe thead th {\n",
       "        text-align: right;\n",
       "    }\n",
       "</style>\n",
       "<table border=\"1\" class=\"dataframe\">\n",
       "  <thead>\n",
       "    <tr style=\"text-align: right;\">\n",
       "      <th></th>\n",
       "      <th>year</th>\n",
       "      <th>fileName</th>\n",
       "      <th>text</th>\n",
       "      <th>rhino_preprocessing</th>\n",
       "      <th>keywords</th>\n",
       "    </tr>\n",
       "  </thead>\n",
       "  <tbody>\n",
       "    <tr>\n",
       "      <th>0</th>\n",
       "      <td>2018</td>\n",
       "      <td>한국산업인력공단 지속가능보고서(2017...</td>\n",
       "      <td>지속가능경영 보고서   목차                             보고...</td>\n",
       "      <td>0</td>\n",
       "      <td>0</td>\n",
       "    </tr>\n",
       "    <tr>\n",
       "      <th>1</th>\n",
       "      <td>2018</td>\n",
       "      <td>LGCNS_Sustainability_Report_2017-2018.pdf.txt</td>\n",
       "      <td>-                                         보고서 ...</td>\n",
       "      <td>0</td>\n",
       "      <td>0</td>\n",
       "    </tr>\n",
       "    <tr>\n",
       "      <th>2</th>\n",
       "      <td>2018</td>\n",
       "      <td>한국국토정보공사 2017 지속가능경영보ᄀ...</td>\n",
       "      <td>지속가능경영보고서            한 국 국 토 정 보 공 사 지 속 가 능 경...</td>\n",
       "      <td>0</td>\n",
       "      <td>0</td>\n",
       "    </tr>\n",
       "    <tr>\n",
       "      <th>3</th>\n",
       "      <td>2018</td>\n",
       "      <td>2018 롯데건설 지속가능경영보고서.pdf.txt</td>\n",
       "      <td>롯데건설 지속가능경영보고서   보고서 개요   보고서 특징   롯데건설은     년...</td>\n",
       "      <td>0</td>\n",
       "      <td>0</td>\n",
       "    </tr>\n",
       "    <tr>\n",
       "      <th>4</th>\n",
       "      <td>2018</td>\n",
       "      <td>2018_NH투자증권.pdf.txt</td>\n",
       "      <td>투 자 증 권 지 속 가 능 경 영 보 고 서        서울특별시 영등포구 여의...</td>\n",
       "      <td>0</td>\n",
       "      <td>0</td>\n",
       "    </tr>\n",
       "  </tbody>\n",
       "</table>\n",
       "</div>"
      ],
      "text/plain": [
       "   year                                           fileName  \\\n",
       "0  2018  한국산업인력공단 지속가능보고서(2017...   \n",
       "1  2018      LGCNS_Sustainability_Report_2017-2018.pdf.txt   \n",
       "2  2018  한국국토정보공사 2017 지속가능경영보ᄀ...   \n",
       "3  2018    2018 롯데건설 지속가능경영보고서.pdf.txt   \n",
       "4  2018                          2018_NH투자증권.pdf.txt   \n",
       "\n",
       "                                                text rhino_preprocessing  \\\n",
       "0  지속가능경영 보고서   목차                             보고...                   0   \n",
       "1  -                                         보고서 ...                   0   \n",
       "2  지속가능경영보고서            한 국 국 토 정 보 공 사 지 속 가 능 경...                   0   \n",
       "3  롯데건설 지속가능경영보고서   보고서 개요   보고서 특징   롯데건설은     년...                   0   \n",
       "4  투 자 증 권 지 속 가 능 경 영 보 고 서        서울특별시 영등포구 여의...                   0   \n",
       "\n",
       "  keywords  \n",
       "0        0  \n",
       "1        0  \n",
       "2        0  \n",
       "3        0  \n",
       "4        0  "
      ]
     },
     "execution_count": 4,
     "metadata": {},
     "output_type": "execute_result"
    }
   ],
   "source": [
    "df.head()"
   ]
  },
  {
   "cell_type": "code",
   "execution_count": 5,
   "metadata": {},
   "outputs": [
    {
     "data": {
      "text/plain": [
       "236"
      ]
     },
     "execution_count": 5,
     "metadata": {},
     "output_type": "execute_result"
    }
   ],
   "source": [
    "len(df)"
   ]
  },
  {
   "cell_type": "markdown",
   "metadata": {},
   "source": [
    "### 정규표현식으로 전처리 + Rhino 형태소 분석"
   ]
  },
  {
   "cell_type": "code",
   "execution_count": 7,
   "metadata": {},
   "outputs": [
    {
     "name": "stdout",
     "output_type": "stream",
     "text": [
      "filepath:  /opt/anaconda3/lib/python3.8/site-packages\n",
      "classpath:  /opt/anaconda3/lib/python3.8/site-packages/rhinoMorph/lib/rhino.jar\n",
      "JVM is already started~\n",
      "RHINO started!\n"
     ]
    }
   ],
   "source": [
    "import re\n",
    "import rhinoMorph\n",
    "rn = rhinoMorph.startRhino()\n",
    "\n",
    "def preprocessing_regex_rhino_All(text):\n",
    "    \n",
    "    afterText = re.sub('[^가-힣]', ' ', text)                # 한글만\n",
    "    afterText = re.sub('/\\r\\n|\\r|\\n/', ' ', afterText)      # 개행문자 제거\n",
    "    afterText = re.sub(' +', ' ', afterText)                # 연속된 공백 한개로\n",
    "    \n",
    "    # 실질형태소만, 동사의 어말어미 포함, 조사 제외\n",
    "    # eomi=True : 동사, 형용사 계열 뒤에 모두 '-다'를 붙여주는 것\n",
    "    # combineN=True : (default)False, 명사가 붙어있을 때, 하나의 형태소로 보는 것(더 나을 때가 있음)\n",
    "    result = rhinoMorph.onlyMorph_list(rn, afterText, pos = ['NNG', 'NNP', 'NP', 'VV', 'VA', 'XR', 'IC', 'MM', 'MAG', 'MAJ'], eomi = True, combineN = True, xrVv = True)\n",
    "    \n",
    "    return [word for word in result if len(word) > 1]       # 1글자는 제외"
   ]
  },
  {
   "cell_type": "code",
   "execution_count": 8,
   "metadata": {},
   "outputs": [
    {
     "name": "stderr",
     "output_type": "stream",
     "text": [
      "/opt/anaconda3/lib/python3.8/site-packages/tqdm/std.py:697: FutureWarning: The Panel class is removed from pandas. Accessing it from the top-level namespace will also be removed in the next version\n",
      "  from pandas import Panel\n",
      "100%|██████████| 236/236 [02:20<00:00,  1.68it/s]\n"
     ]
    },
    {
     "data": {
      "text/html": [
       "<div>\n",
       "<style scoped>\n",
       "    .dataframe tbody tr th:only-of-type {\n",
       "        vertical-align: middle;\n",
       "    }\n",
       "\n",
       "    .dataframe tbody tr th {\n",
       "        vertical-align: top;\n",
       "    }\n",
       "\n",
       "    .dataframe thead th {\n",
       "        text-align: right;\n",
       "    }\n",
       "</style>\n",
       "<table border=\"1\" class=\"dataframe\">\n",
       "  <thead>\n",
       "    <tr style=\"text-align: right;\">\n",
       "      <th></th>\n",
       "      <th>year</th>\n",
       "      <th>fileName</th>\n",
       "      <th>text</th>\n",
       "      <th>rhino_preprocessing</th>\n",
       "      <th>keywords</th>\n",
       "    </tr>\n",
       "  </thead>\n",
       "  <tbody>\n",
       "    <tr>\n",
       "      <th>0</th>\n",
       "      <td>2018</td>\n",
       "      <td>한국산업인력공단 지속가능보고서(2017...</td>\n",
       "      <td>지속가능경영 보고서   목차                             보고...</td>\n",
       "      <td>[지속가능경영, 보고서, 목차, 보고서개요, 기관소개, 지속가능경영, 소개, 경영추...</td>\n",
       "      <td>0</td>\n",
       "    </tr>\n",
       "    <tr>\n",
       "      <th>1</th>\n",
       "      <td>2018</td>\n",
       "      <td>LGCNS_Sustainability_Report_2017-2018.pdf.txt</td>\n",
       "      <td>-                                         보고서 ...</td>\n",
       "      <td>[보고서, 개요, 보다, 보고서, 발간하다, 보고서, 지속가능경영, 전략, 소개, ...</td>\n",
       "      <td>0</td>\n",
       "    </tr>\n",
       "    <tr>\n",
       "      <th>2</th>\n",
       "      <td>2018</td>\n",
       "      <td>한국국토정보공사 2017 지속가능경영보ᄀ...</td>\n",
       "      <td>지속가능경영보고서            한 국 국 토 정 보 공 사 지 속 가 능 경...</td>\n",
       "      <td>[지속가능경영보고서, 보다, 보다, 서다, 잇다, 보고서, 개요, 한국국토정보공, ...</td>\n",
       "      <td>0</td>\n",
       "    </tr>\n",
       "    <tr>\n",
       "      <th>3</th>\n",
       "      <td>2018</td>\n",
       "      <td>2018 롯데건설 지속가능경영보고서.pdf.txt</td>\n",
       "      <td>롯데건설 지속가능경영보고서   보고서 개요   보고서 특징   롯데건설은     년...</td>\n",
       "      <td>[롯데건설, 지속가능경영보고서, 보고서, 개요, 보고서, 특징, 롯데건설, 이후, ...</td>\n",
       "      <td>0</td>\n",
       "    </tr>\n",
       "    <tr>\n",
       "      <th>4</th>\n",
       "      <td>2018</td>\n",
       "      <td>2018_NH투자증권.pdf.txt</td>\n",
       "      <td>투 자 증 권 지 속 가 능 경 영 보 고 서        서울특별시 영등포구 여의...</td>\n",
       "      <td>[보다, 서울특별시, 영등포구, 여의다, 투자증권빌딩, 투자증권, 지속가능경영보고서...</td>\n",
       "      <td>0</td>\n",
       "    </tr>\n",
       "  </tbody>\n",
       "</table>\n",
       "</div>"
      ],
      "text/plain": [
       "   year                                           fileName  \\\n",
       "0  2018  한국산업인력공단 지속가능보고서(2017...   \n",
       "1  2018      LGCNS_Sustainability_Report_2017-2018.pdf.txt   \n",
       "2  2018  한국국토정보공사 2017 지속가능경영보ᄀ...   \n",
       "3  2018    2018 롯데건설 지속가능경영보고서.pdf.txt   \n",
       "4  2018                          2018_NH투자증권.pdf.txt   \n",
       "\n",
       "                                                text  \\\n",
       "0  지속가능경영 보고서   목차                             보고...   \n",
       "1  -                                         보고서 ...   \n",
       "2  지속가능경영보고서            한 국 국 토 정 보 공 사 지 속 가 능 경...   \n",
       "3  롯데건설 지속가능경영보고서   보고서 개요   보고서 특징   롯데건설은     년...   \n",
       "4  투 자 증 권 지 속 가 능 경 영 보 고 서        서울특별시 영등포구 여의...   \n",
       "\n",
       "                                 rhino_preprocessing keywords  \n",
       "0  [지속가능경영, 보고서, 목차, 보고서개요, 기관소개, 지속가능경영, 소개, 경영추...        0  \n",
       "1  [보고서, 개요, 보다, 보고서, 발간하다, 보고서, 지속가능경영, 전략, 소개, ...        0  \n",
       "2  [지속가능경영보고서, 보다, 보다, 서다, 잇다, 보고서, 개요, 한국국토정보공, ...        0  \n",
       "3  [롯데건설, 지속가능경영보고서, 보고서, 개요, 보고서, 특징, 롯데건설, 이후, ...        0  \n",
       "4  [보다, 서울특별시, 영등포구, 여의다, 투자증권빌딩, 투자증권, 지속가능경영보고서...        0  "
      ]
     },
     "execution_count": 8,
     "metadata": {},
     "output_type": "execute_result"
    }
   ],
   "source": [
    "tqdm.pandas()\n",
    "\n",
    "df['rhino_preprocessing'] = df['text'].progress_apply(preprocessing_regex_rhino_All)   # tqdm 적용\n",
    "df.head()"
   ]
  },
  {
   "cell_type": "code",
   "execution_count": 9,
   "metadata": {},
   "outputs": [],
   "source": [
    "df.to_csv('rhino_all_before_extracting_keywords.csv', index = False)"
   ]
  },
  {
   "cell_type": "code",
   "execution_count": 10,
   "metadata": {},
   "outputs": [
    {
     "data": {
      "text/plain": [
       "8791"
      ]
     },
     "execution_count": 10,
     "metadata": {},
     "output_type": "execute_result"
    }
   ],
   "source": [
    "len(df.rhino_preprocessing[0])"
   ]
  },
  {
   "cell_type": "markdown",
   "metadata": {},
   "source": [
    "### 키워드 추출"
   ]
  },
  {
   "cell_type": "markdown",
   "metadata": {},
   "source": [
    "summarize_with_keywords(text)와 wordrank_extractor.extract(text, beta, max_iter)는 같은 기능을 함"
   ]
  },
  {
   "cell_type": "code",
   "execution_count": 11,
   "metadata": {},
   "outputs": [],
   "source": [
    "# KRWordRank '기본' 파라미터 값 적용\n",
    "from krwordrank.word import KRWordRank\n",
    "from krwordrank.hangle import normalize      # 숫자, 영어 포함 여부\n",
    "from krwordrank.word import summarize_with_keywords\n",
    "import numpy as np\n",
    "\n",
    "def extract_keywords_default(text):\n",
    "    error_cnt = 0\n",
    "    try:\n",
    "        min_count = 5       # 단어의 최소 출현 빈도수 (그래프 생성 시) [5, 3]\n",
    "        max_length = 10     # 단어의 최대 길이 [10, 30]\n",
    "        verbose = False     # [True, False]\n",
    "        wordrank_extractor = KRWordRank(min_count, max_length, verbose)\n",
    "\n",
    "        beta = 0.85         # PageRank의 decaying factor beta\n",
    "        max_iter = 10       # [10, 30]\n",
    "\n",
    "#         text = normalize(text, english = False, number = False).split(' ')        # wordrank_extractor.extract() 함수를 쓰려면 text가 List 형태여야 함\n",
    "        keywords, rank, graph = wordrank_extractor.extract(text, beta, max_iter)\n",
    "\n",
    "#         stopwords = {'대한','의견','단어'}\n",
    "#         keywords = summarize_with_keywords(text, min_count = 3, max_length = 30, beta = 0.85, max_iter = 30, stopwords = stopwords, verbose = True)\n",
    "#         keywords = summarize_with_keywords(text)    # with default arguments\n",
    "        result = sorted(keywords.items(), key = lambda x:x[1], reverse = True)\n",
    "\n",
    "        # return [result[x][0] for x in range(len(result))]   # 단어만\n",
    "        return result                                         # 단어 + 점수\n",
    "    \n",
    "    except:\n",
    "        error_cnt += 1\n",
    "        print(error_cnt)\n",
    "        \n",
    "        return np.nan"
   ]
  },
  {
   "cell_type": "code",
   "execution_count": 12,
   "metadata": {},
   "outputs": [],
   "source": [
    "# KRWordRank '수정된' 파라미터 값 적용\n",
    "from krwordrank.word import KRWordRank\n",
    "from krwordrank.hangle import normalize      # 숫자, 영어 포함 여부\n",
    "from krwordrank.word import summarize_with_keywords\n",
    "import numpy as np\n",
    "\n",
    "def extract_keywords(text):\n",
    "    error_cnt = 0\n",
    "    try:\n",
    "        min_count = 3       # 단어의 최소 출현 빈도수 (그래프 생성 시) [5, 3]\n",
    "        max_length = 30     # 단어의 최대 길이 [10, 30]\n",
    "        verbose = False     # [True, False]\n",
    "        wordrank_extractor = KRWordRank(min_count, max_length, verbose)\n",
    "\n",
    "        beta = 0.85         # PageRank의 decaying factor beta\n",
    "        max_iter = 30       # [10, 30]\n",
    "\n",
    "#         text = normalize(text, english = False, number = False).split(' ')        # wordrank_extractor.extract() 함수를 쓰려면 text가 List 형태여야 함\n",
    "        keywords, rank, graph = wordrank_extractor.extract(text, beta, max_iter)\n",
    "\n",
    "#         stopwords = {'대한','의견','단어'}\n",
    "#         keywords = summarize_with_keywords(text, min_count = 3, max_length = 30, beta = 0.85, max_iter = 30, stopwords = stopwords, verbose = True)\n",
    "#         keywords = summarize_with_keywords(text)    # with default arguments\n",
    "        result = sorted(keywords.items(), key = lambda x:x[1], reverse = True)\n",
    "\n",
    "        # return [result[x][0] for x in range(len(result))]   # 단어만\n",
    "        return result                                         # 단어 + 점수\n",
    "    \n",
    "    except:\n",
    "        error_cnt += 1\n",
    "        print(error_cnt)\n",
    "        \n",
    "        return np.nan"
   ]
  },
  {
   "cell_type": "code",
   "execution_count": 13,
   "metadata": {},
   "outputs": [
    {
     "name": "stderr",
     "output_type": "stream",
     "text": [
      "/opt/anaconda3/lib/python3.8/site-packages/tqdm/std.py:697: FutureWarning: The Panel class is removed from pandas. Accessing it from the top-level namespace will also be removed in the next version\n",
      "  from pandas import Panel\n",
      "100%|██████████| 236/236 [00:55<00:00,  4.24it/s]\n"
     ]
    },
    {
     "data": {
      "text/html": [
       "<div>\n",
       "<style scoped>\n",
       "    .dataframe tbody tr th:only-of-type {\n",
       "        vertical-align: middle;\n",
       "    }\n",
       "\n",
       "    .dataframe tbody tr th {\n",
       "        vertical-align: top;\n",
       "    }\n",
       "\n",
       "    .dataframe thead th {\n",
       "        text-align: right;\n",
       "    }\n",
       "</style>\n",
       "<table border=\"1\" class=\"dataframe\">\n",
       "  <thead>\n",
       "    <tr style=\"text-align: right;\">\n",
       "      <th></th>\n",
       "      <th>year</th>\n",
       "      <th>fileName</th>\n",
       "      <th>text</th>\n",
       "      <th>rhino_preprocessing</th>\n",
       "      <th>keywords</th>\n",
       "    </tr>\n",
       "  </thead>\n",
       "  <tbody>\n",
       "    <tr>\n",
       "      <th>0</th>\n",
       "      <td>2018</td>\n",
       "      <td>한국산업인력공단 지속가능보고서(2017...</td>\n",
       "      <td>지속가능경영 보고서   목차                             보고...</td>\n",
       "      <td>[지속가능경영, 보고서, 목차, 보고서개요, 기관소개, 지속가능경영, 소개, 경영추...</td>\n",
       "      <td>[(위하, 5.587173942924778), (통하, 4.4460386709529...</td>\n",
       "    </tr>\n",
       "    <tr>\n",
       "      <th>1</th>\n",
       "      <td>2018</td>\n",
       "      <td>LGCNS_Sustainability_Report_2017-2018.pdf.txt</td>\n",
       "      <td>-                                         보고서 ...</td>\n",
       "      <td>[보고서, 개요, 보다, 보고서, 발간하다, 보고서, 지속가능경영, 전략, 소개, ...</td>\n",
       "      <td>[(위하, 6.174900383756149), (안전, 5.9991329900513...</td>\n",
       "    </tr>\n",
       "    <tr>\n",
       "      <th>2</th>\n",
       "      <td>2018</td>\n",
       "      <td>한국국토정보공사 2017 지속가능경영보ᄀ...</td>\n",
       "      <td>지속가능경영보고서            한 국 국 토 정 보 공 사 지 속 가 능 경...</td>\n",
       "      <td>[지속가능경영보고서, 보다, 보다, 서다, 잇다, 보고서, 개요, 한국국토정보공, ...</td>\n",
       "      <td>[(공간, 9.202392025291969), (국토, 6.7604949903023...</td>\n",
       "    </tr>\n",
       "    <tr>\n",
       "      <th>3</th>\n",
       "      <td>2018</td>\n",
       "      <td>2018 롯데건설 지속가능경영보고서.pdf.txt</td>\n",
       "      <td>롯데건설 지속가능경영보고서   보고서 개요   보고서 특징   롯데건설은     년...</td>\n",
       "      <td>[롯데건설, 지속가능경영보고서, 보고서, 개요, 보고서, 특징, 롯데건설, 이후, ...</td>\n",
       "      <td>[(안전, 7.9274563583972615), (롯데, 7.323033700290...</td>\n",
       "    </tr>\n",
       "    <tr>\n",
       "      <th>4</th>\n",
       "      <td>2018</td>\n",
       "      <td>2018_NH투자증권.pdf.txt</td>\n",
       "      <td>투 자 증 권 지 속 가 능 경 영 보 고 서        서울특별시 영등포구 여의...</td>\n",
       "      <td>[보다, 서울특별시, 영등포구, 여의다, 투자증권빌딩, 투자증권, 지속가능경영보고서...</td>\n",
       "      <td>[(금융, 11.744767569591952), (투자, 9.712934707223...</td>\n",
       "    </tr>\n",
       "  </tbody>\n",
       "</table>\n",
       "</div>"
      ],
      "text/plain": [
       "   year                                           fileName  \\\n",
       "0  2018  한국산업인력공단 지속가능보고서(2017...   \n",
       "1  2018      LGCNS_Sustainability_Report_2017-2018.pdf.txt   \n",
       "2  2018  한국국토정보공사 2017 지속가능경영보ᄀ...   \n",
       "3  2018    2018 롯데건설 지속가능경영보고서.pdf.txt   \n",
       "4  2018                          2018_NH투자증권.pdf.txt   \n",
       "\n",
       "                                                text  \\\n",
       "0  지속가능경영 보고서   목차                             보고...   \n",
       "1  -                                         보고서 ...   \n",
       "2  지속가능경영보고서            한 국 국 토 정 보 공 사 지 속 가 능 경...   \n",
       "3  롯데건설 지속가능경영보고서   보고서 개요   보고서 특징   롯데건설은     년...   \n",
       "4  투 자 증 권 지 속 가 능 경 영 보 고 서        서울특별시 영등포구 여의...   \n",
       "\n",
       "                                 rhino_preprocessing  \\\n",
       "0  [지속가능경영, 보고서, 목차, 보고서개요, 기관소개, 지속가능경영, 소개, 경영추...   \n",
       "1  [보고서, 개요, 보다, 보고서, 발간하다, 보고서, 지속가능경영, 전략, 소개, ...   \n",
       "2  [지속가능경영보고서, 보다, 보다, 서다, 잇다, 보고서, 개요, 한국국토정보공, ...   \n",
       "3  [롯데건설, 지속가능경영보고서, 보고서, 개요, 보고서, 특징, 롯데건설, 이후, ...   \n",
       "4  [보다, 서울특별시, 영등포구, 여의다, 투자증권빌딩, 투자증권, 지속가능경영보고서...   \n",
       "\n",
       "                                            keywords  \n",
       "0  [(위하, 5.587173942924778), (통하, 4.4460386709529...  \n",
       "1  [(위하, 6.174900383756149), (안전, 5.9991329900513...  \n",
       "2  [(공간, 9.202392025291969), (국토, 6.7604949903023...  \n",
       "3  [(안전, 7.9274563583972615), (롯데, 7.323033700290...  \n",
       "4  [(금융, 11.744767569591952), (투자, 9.712934707223...  "
      ]
     },
     "execution_count": 13,
     "metadata": {},
     "output_type": "execute_result"
    }
   ],
   "source": [
    "tqdm.pandas()\n",
    "\n",
    "df['keywords'] = df['rhino_preprocessing'].progress_apply(extract_keywords)    # tqdm 적용\n",
    "df.head()"
   ]
  },
  {
   "cell_type": "code",
   "execution_count": 86,
   "metadata": {},
   "outputs": [
    {
     "data": {
      "text/plain": [
       "[('위하', 5.587173942924778),\n",
       " ('통하', 4.446038670952912),\n",
       " ('운영', 4.024481761380939),\n",
       " ('추진', 3.5209719339443972),\n",
       " ('근로', 3.3623637228895906),\n",
       " ('지원', 3.2758540426248075),\n",
       " ('국가', 3.2515795561776444),\n",
       " ('사회', 3.131288650694633),\n",
       " ('지속', 3.0613694108177),\n",
       " ('사업', 2.9924654983968724),\n",
       " ('취업', 2.7659890082138947),\n",
       " ('한국', 2.5010695894921153),\n",
       " ('실시', 2.4212286890852526),\n",
       " ('직업', 2.397905835222033),\n",
       " ('대하', 2.2980193354764555),\n",
       " ('주요', 2.290249462030271),\n",
       " ('고객', 2.257189317248697),\n",
       " ('윤리', 2.214087494571397),\n",
       " ('교육', 2.0937609051323203),\n",
       " ('전문', 2.0679938395187616)]"
      ]
     },
     "execution_count": 86,
     "metadata": {},
     "output_type": "execute_result"
    }
   ],
   "source": [
    "df.keywords[0][:20]"
   ]
  },
  {
   "cell_type": "code",
   "execution_count": 17,
   "metadata": {},
   "outputs": [
    {
     "name": "stderr",
     "output_type": "stream",
     "text": [
      "/opt/anaconda3/lib/python3.8/site-packages/tqdm/std.py:697: FutureWarning: The Panel class is removed from pandas. Accessing it from the top-level namespace will also be removed in the next version\n",
      "  from pandas import Panel\n",
      "100%|██████████| 236/236 [00:34<00:00,  6.92it/s]\n"
     ]
    },
    {
     "data": {
      "text/html": [
       "<div>\n",
       "<style scoped>\n",
       "    .dataframe tbody tr th:only-of-type {\n",
       "        vertical-align: middle;\n",
       "    }\n",
       "\n",
       "    .dataframe tbody tr th {\n",
       "        vertical-align: top;\n",
       "    }\n",
       "\n",
       "    .dataframe thead th {\n",
       "        text-align: right;\n",
       "    }\n",
       "</style>\n",
       "<table border=\"1\" class=\"dataframe\">\n",
       "  <thead>\n",
       "    <tr style=\"text-align: right;\">\n",
       "      <th></th>\n",
       "      <th>year</th>\n",
       "      <th>fileName</th>\n",
       "      <th>text</th>\n",
       "      <th>rhino_preprocessing</th>\n",
       "      <th>keywords</th>\n",
       "      <th>keywords_default</th>\n",
       "    </tr>\n",
       "  </thead>\n",
       "  <tbody>\n",
       "    <tr>\n",
       "      <th>0</th>\n",
       "      <td>2018</td>\n",
       "      <td>한국산업인력공단 지속가능보고서(2017...</td>\n",
       "      <td>지속가능경영 보고서   목차                             보고...</td>\n",
       "      <td>[지속가능경영, 보고서, 목차, 보고서개요, 기관소개, 지속가능경영, 소개, 경영추...</td>\n",
       "      <td>[(위하, 5.587173942924778), (통하, 4.4460386709529...</td>\n",
       "      <td>[(위하, 4.151493617815554), (운영, 3.4068759451316...</td>\n",
       "    </tr>\n",
       "    <tr>\n",
       "      <th>1</th>\n",
       "      <td>2018</td>\n",
       "      <td>LGCNS_Sustainability_Report_2017-2018.pdf.txt</td>\n",
       "      <td>-                                         보고서 ...</td>\n",
       "      <td>[보고서, 개요, 보다, 보고서, 발간하다, 보고서, 지속가능경영, 전략, 소개, ...</td>\n",
       "      <td>[(위하, 6.174900383756149), (안전, 5.9991329900513...</td>\n",
       "      <td>[(위하, 4.984467328496432), (서비, 4.3058839677113...</td>\n",
       "    </tr>\n",
       "    <tr>\n",
       "      <th>2</th>\n",
       "      <td>2018</td>\n",
       "      <td>한국국토정보공사 2017 지속가능경영보ᄀ...</td>\n",
       "      <td>지속가능경영보고서            한 국 국 토 정 보 공 사 지 속 가 능 경...</td>\n",
       "      <td>[지속가능경영보고서, 보다, 보다, 서다, 잇다, 보고서, 개요, 한국국토정보공, ...</td>\n",
       "      <td>[(공간, 9.202392025291969), (국토, 6.7604949903023...</td>\n",
       "      <td>[(공간, 7.323434051758898), (지속, 4.9432499351776...</td>\n",
       "    </tr>\n",
       "    <tr>\n",
       "      <th>3</th>\n",
       "      <td>2018</td>\n",
       "      <td>2018 롯데건설 지속가능경영보고서.pdf.txt</td>\n",
       "      <td>롯데건설 지속가능경영보고서   보고서 개요   보고서 특징   롯데건설은     년...</td>\n",
       "      <td>[롯데건설, 지속가능경영보고서, 보고서, 개요, 보고서, 특징, 롯데건설, 이후, ...</td>\n",
       "      <td>[(안전, 7.9274563583972615), (롯데, 7.323033700290...</td>\n",
       "      <td>[(안전, 5.990364783261364), (롯데, 4.6713327013056...</td>\n",
       "    </tr>\n",
       "    <tr>\n",
       "      <th>4</th>\n",
       "      <td>2018</td>\n",
       "      <td>2018_NH투자증권.pdf.txt</td>\n",
       "      <td>투 자 증 권 지 속 가 능 경 영 보 고 서        서울특별시 영등포구 여의...</td>\n",
       "      <td>[보다, 서울특별시, 영등포구, 여의다, 투자증권빌딩, 투자증권, 지속가능경영보고서...</td>\n",
       "      <td>[(금융, 11.744767569591952), (투자, 9.712934707223...</td>\n",
       "      <td>[(금융, 9.270241161174235), (투자, 6.1964324646261...</td>\n",
       "    </tr>\n",
       "  </tbody>\n",
       "</table>\n",
       "</div>"
      ],
      "text/plain": [
       "   year                                           fileName  \\\n",
       "0  2018  한국산업인력공단 지속가능보고서(2017...   \n",
       "1  2018      LGCNS_Sustainability_Report_2017-2018.pdf.txt   \n",
       "2  2018  한국국토정보공사 2017 지속가능경영보ᄀ...   \n",
       "3  2018    2018 롯데건설 지속가능경영보고서.pdf.txt   \n",
       "4  2018                          2018_NH투자증권.pdf.txt   \n",
       "\n",
       "                                                text  \\\n",
       "0  지속가능경영 보고서   목차                             보고...   \n",
       "1  -                                         보고서 ...   \n",
       "2  지속가능경영보고서            한 국 국 토 정 보 공 사 지 속 가 능 경...   \n",
       "3  롯데건설 지속가능경영보고서   보고서 개요   보고서 특징   롯데건설은     년...   \n",
       "4  투 자 증 권 지 속 가 능 경 영 보 고 서        서울특별시 영등포구 여의...   \n",
       "\n",
       "                                 rhino_preprocessing  \\\n",
       "0  [지속가능경영, 보고서, 목차, 보고서개요, 기관소개, 지속가능경영, 소개, 경영추...   \n",
       "1  [보고서, 개요, 보다, 보고서, 발간하다, 보고서, 지속가능경영, 전략, 소개, ...   \n",
       "2  [지속가능경영보고서, 보다, 보다, 서다, 잇다, 보고서, 개요, 한국국토정보공, ...   \n",
       "3  [롯데건설, 지속가능경영보고서, 보고서, 개요, 보고서, 특징, 롯데건설, 이후, ...   \n",
       "4  [보다, 서울특별시, 영등포구, 여의다, 투자증권빌딩, 투자증권, 지속가능경영보고서...   \n",
       "\n",
       "                                            keywords  \\\n",
       "0  [(위하, 5.587173942924778), (통하, 4.4460386709529...   \n",
       "1  [(위하, 6.174900383756149), (안전, 5.9991329900513...   \n",
       "2  [(공간, 9.202392025291969), (국토, 6.7604949903023...   \n",
       "3  [(안전, 7.9274563583972615), (롯데, 7.323033700290...   \n",
       "4  [(금융, 11.744767569591952), (투자, 9.712934707223...   \n",
       "\n",
       "                                    keywords_default  \n",
       "0  [(위하, 4.151493617815554), (운영, 3.4068759451316...  \n",
       "1  [(위하, 4.984467328496432), (서비, 4.3058839677113...  \n",
       "2  [(공간, 7.323434051758898), (지속, 4.9432499351776...  \n",
       "3  [(안전, 5.990364783261364), (롯데, 4.6713327013056...  \n",
       "4  [(금융, 9.270241161174235), (투자, 6.1964324646261...  "
      ]
     },
     "execution_count": 17,
     "metadata": {},
     "output_type": "execute_result"
    }
   ],
   "source": [
    "tqdm.pandas()\n",
    "\n",
    "df['keywords_default'] = df['rhino_preprocessing'].progress_apply(extract_keywords_default)    # tqdm 적용\n",
    "df.head()"
   ]
  },
  {
   "cell_type": "code",
   "execution_count": 19,
   "metadata": {},
   "outputs": [],
   "source": [
    "df.to_csv('rhino_all_after_keywords.csv', index = False)"
   ]
  },
  {
   "cell_type": "markdown",
   "metadata": {},
   "source": [
    "### 중복 키워드 확인"
   ]
  },
  {
   "cell_type": "code",
   "execution_count": 20,
   "metadata": {},
   "outputs": [
    {
     "data": {
      "text/plain": [
       "1"
      ]
     },
     "execution_count": 20,
     "metadata": {},
     "output_type": "execute_result"
    }
   ],
   "source": [
    "keyword_counter = {}\n",
    "\n",
    "for keywords in df.keywords:\n",
    "    words, ranks = zip(*keywords)\n",
    "    for word in words:\n",
    "        keyword_counter[word] = keyword_counter.get(word, 0) + 1\n",
    "\n",
    "common_keywords = {word for word, count in keyword_counter.items() if count == len(df)}    # 모든 보고서에 등장하는 키워드\n",
    "len(common_keywords)"
   ]
  },
  {
   "cell_type": "code",
   "execution_count": 21,
   "metadata": {},
   "outputs": [
    {
     "data": {
      "text/plain": [
       "{'위하'}"
      ]
     },
     "execution_count": 21,
     "metadata": {},
     "output_type": "execute_result"
    }
   ],
   "source": [
    "common_keywords"
   ]
  },
  {
   "cell_type": "code",
   "execution_count": 22,
   "metadata": {},
   "outputs": [
    {
     "data": {
      "text/plain": [
       "9027"
      ]
     },
     "execution_count": 22,
     "metadata": {},
     "output_type": "execute_result"
    }
   ],
   "source": [
    "len(keyword_counter)"
   ]
  },
  {
   "cell_type": "code",
   "execution_count": 23,
   "metadata": {},
   "outputs": [
    {
     "data": {
      "text/plain": [
       "[('위하', 236),\n",
       " ('통하', 235),\n",
       " ('운영', 235),\n",
       " ('지원', 235),\n",
       " ('사회', 235),\n",
       " ('지속', 235),\n",
       " ('사업', 235),\n",
       " ('대하', 235),\n",
       " ('노력', 235),\n",
       " ('제공', 235)]"
      ]
     },
     "execution_count": 23,
     "metadata": {},
     "output_type": "execute_result"
    }
   ],
   "source": [
    "keyword_counter = sorted(keyword_counter.items(), key = lambda x:x[1], reverse = True)\n",
    "keyword_counter = list(keyword_counter)\n",
    "keyword_counter[:10]"
   ]
  },
  {
   "cell_type": "code",
   "execution_count": null,
   "metadata": {},
   "outputs": [],
   "source": [
    "df_keyword_counter = pd.DataFrame(keyword_counter, columns = ['words', 'count'])\n",
    "df_keyword_counter.to_csv('keyword_counter.csv', index = False)\n",
    "df_keyword_counter.head()"
   ]
  },
  {
   "cell_type": "markdown",
   "metadata": {},
   "source": [
    "### 키워드 EDA"
   ]
  },
  {
   "cell_type": "code",
   "execution_count": 25,
   "metadata": {},
   "outputs": [
    {
     "name": "stderr",
     "output_type": "stream",
     "text": [
      "/opt/anaconda3/lib/python3.8/site-packages/seaborn/distributions.py:2551: FutureWarning: `distplot` is a deprecated function and will be removed in a future version. Please adapt your code to use either `displot` (a figure-level function with similar flexibility) or `histplot` (an axes-level function for histograms).\n",
      "  warnings.warn(msg, FutureWarning)\n"
     ]
    },
    {
     "data": {
      "text/plain": [
       "<matplotlib.legend.Legend at 0x7feb3b67c220>"
      ]
     },
     "execution_count": 25,
     "metadata": {},
     "output_type": "execute_result"
    },
    {
     "data": {
      "image/png": "[encoded data removed]",
      "text/plain": [
       "<Figure size 864x504 with 1 Axes>"
      ]
     },
     "metadata": {
      "needs_background": "light"
     },
     "output_type": "display_data"
    }
   ],
   "source": [
    "import matplotlib.pyplot as plt\n",
    "import seaborn as sns\n",
    "\n",
    "plt.figure(figsize = (12, 7))\n",
    "sns.distplot(list(zip(*keyword_counter))[1], label = \"count of keywords\")\n",
    "plt.xlim(0, 240)\n",
    "plt.legend()"
   ]
  },
  {
   "cell_type": "code",
   "execution_count": 26,
   "metadata": {},
   "outputs": [
    {
     "data": {
      "text/plain": [
       "count    9027.000000\n",
       "mean       19.334441\n",
       "std        45.338935\n",
       "min         1.000000\n",
       "25%         1.000000\n",
       "50%         2.000000\n",
       "75%        10.000000\n",
       "max       236.000000\n",
       "Name: count, dtype: float64"
      ]
     },
     "execution_count": 26,
     "metadata": {},
     "output_type": "execute_result"
    }
   ],
   "source": [
    "df_keyword_cnt = pd.DataFrame(list(zip(*keyword_counter))[1], columns = ['count'])\n",
    "df_keyword_cnt['count'].describe()"
   ]
  },
  {
   "cell_type": "markdown",
   "metadata": {},
   "source": [
    "### 정리\n",
    "1. 전체 text에서 형태소 분석 없이 키워드 추출\n",
    "2. Mecab으로 키워드 추출 > 조사, 형식형태소 등 쓸모없는 비율이 많음\n",
    "3. Rhino로 키워드 추출(품사 지정해서 의미없는 키워드 사전 제거)\n",
    "    * Rhino의 장점\n",
    "    1. 품사 설정이 가능하기 때문에 조사, 형식형태소 등이 빠져서 stopwords 설정하는데 훨씬 수월함\n",
    "    2. 1-2개씩잘려 있는 단어도 제거됨\n",
    "    3. xrVv, combineN 설정을 해줬으니 1글자는 제외해도 됨\n",
    "4. 키워드 직접 라벨링하여 stopwords와 E, S, G로 나누면 > 상위 키워드, ESG에 해당하는 비율 산출"
   ]
  },
  {
   "cell_type": "markdown",
   "metadata": {},
   "source": [
    "### 추가 의견\n",
    "* 20~30번 이상 나왔던 단어들을 제외한 각 보고서의 특색 있는 단어들을 상위키워드로 보여주는 게 좋겠다 - 1. wordrank 2. TF-IDF\n",
    "* 키워드 라벨링 - 인당 1000개 정도\n",
    "* 보고서 개수가 236갠데 전체 기업 수랑 표본 데이터에 있는 기업이 포함되는지 확인\n",
    "* 방향성 변경\n",
    "    1. 키워드를 임베딩 벡터를 만들고 주요 키워드 유사 집합군을 만들어서 그것의 키워드를 보자\n",
    "    2. 문장을 라벨링해서 KoBERT 적용 방안"
   ]
  },
  {
   "cell_type": "code",
   "execution_count": null,
   "metadata": {},
   "outputs": [],
   "source": []
  }
 ],
 "metadata": {
  "kernelspec": {
   "display_name": "Python 3",
   "language": "python",
   "name": "python3"
  },
  "language_info": {
   "codemirror_mode": {
    "name": "ipython",
    "version": 3
   },
   "file_extension": ".py",
   "mimetype": "text/x-python",
   "name": "python",
   "nbconvert_exporter": "python",
   "pygments_lexer": "ipython3",
   "version": "3.8.5"
  }
 },
 "nbformat": 4,
 "nbformat_minor": 4
}
