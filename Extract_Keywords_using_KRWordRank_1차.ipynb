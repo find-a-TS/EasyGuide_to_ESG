{
 "cells": [
  {
   "cell_type": "markdown",
   "metadata": {},
   "source": [
    "# KR-WordRank\n",
    "- 비지도학습으로 한국어 텍스트에서 키워드를 자동으로 추출해주는 라이브러리\n",
    "- **주요 가정 : 단어 주변에는 단어가 등장하며, 올바른 단어는 주위의 많은 단어들과 연결되어 있다. 따라서 단어는 주위 단어들에 의하여 단어 점수가 보강(reinforced)된다.**\n",
    "- [KR-WordRank Reference](https://github.com/lovit/KR-WordRank)\n",
    "- [Setup]\n",
    "```\n",
    "pip install krwordrank\n",
    "```"
   ]
  },
  {
   "cell_type": "markdown",
   "metadata": {},
   "source": [
    "### 전체 파일 합치기"
   ]
  },
  {
   "cell_type": "code",
   "execution_count": 1,
   "metadata": {},
   "outputs": [],
   "source": [
    "import os\n",
    "os.chdir('../data/')"
   ]
  },
  {
   "cell_type": "code",
   "execution_count": 3,
   "metadata": {},
   "outputs": [
    {
     "data": {
      "text/html": [
       "<div>\n",
       "<style scoped>\n",
       "    .dataframe tbody tr th:only-of-type {\n",
       "        vertical-align: middle;\n",
       "    }\n",
       "\n",
       "    .dataframe tbody tr th {\n",
       "        vertical-align: top;\n",
       "    }\n",
       "\n",
       "    .dataframe thead th {\n",
       "        text-align: right;\n",
       "    }\n",
       "</style>\n",
       "<table border=\"1\" class=\"dataframe\">\n",
       "  <thead>\n",
       "    <tr style=\"text-align: right;\">\n",
       "      <th></th>\n",
       "      <th>year</th>\n",
       "      <th>fileName</th>\n",
       "      <th>text</th>\n",
       "      <th>preprocessing</th>\n",
       "      <th>keywords</th>\n",
       "    </tr>\n",
       "  </thead>\n",
       "  <tbody>\n",
       "  </tbody>\n",
       "</table>\n",
       "</div>"
      ],
      "text/plain": [
       "Empty DataFrame\n",
       "Columns: [year, fileName, text, preprocessing, keywords]\n",
       "Index: []"
      ]
     },
     "execution_count": 3,
     "metadata": {},
     "output_type": "execute_result"
    }
   ],
   "source": [
    "import pandas as pd\n",
    "import numpy as np\n",
    "from tqdm import tqdm\n",
    "\n",
    "year = [str(x) for x in range(2011, 2022)]   # 2011 ~ 2021\n",
    "df = pd.DataFrame(columns = ['year', 'fileName', 'text', 'preprocessing', 'keywords'])\n",
    "df"
   ]
  },
  {
   "cell_type": "code",
   "execution_count": 4,
   "metadata": {},
   "outputs": [
    {
     "name": "stderr",
     "output_type": "stream",
     "text": [
      "100%|██████████| 11/11 [00:05<00:00,  2.09it/s]\n"
     ]
    }
   ],
   "source": [
    "for y in tqdm(year):\n",
    "    fileList = os.listdir('./' + y)\n",
    "    for file in fileList:\n",
    "        with open('./' + y + '/' + file, 'r') as f:\n",
    "            textsList = f.read().splitlines()\n",
    "        text = ' '.join(textsList)\n",
    "        df_slice = pd.Series([y, file, text, 0, 0], index = df.columns)\n",
    "        df = df.append(df_slice, ignore_index = True)\n",
    "df.to_csv('all_before_preprocessing.csv', index = False)"
   ]
  },
  {
   "cell_type": "code",
   "execution_count": 5,
   "metadata": {
    "scrolled": true
   },
   "outputs": [
    {
     "data": {
      "text/html": [
       "<div>\n",
       "<style scoped>\n",
       "    .dataframe tbody tr th:only-of-type {\n",
       "        vertical-align: middle;\n",
       "    }\n",
       "\n",
       "    .dataframe tbody tr th {\n",
       "        vertical-align: top;\n",
       "    }\n",
       "\n",
       "    .dataframe thead th {\n",
       "        text-align: right;\n",
       "    }\n",
       "</style>\n",
       "<table border=\"1\" class=\"dataframe\">\n",
       "  <thead>\n",
       "    <tr style=\"text-align: right;\">\n",
       "      <th></th>\n",
       "      <th>year</th>\n",
       "      <th>fileName</th>\n",
       "      <th>text</th>\n",
       "      <th>preprocessing</th>\n",
       "      <th>keywords</th>\n",
       "    </tr>\n",
       "  </thead>\n",
       "  <tbody>\n",
       "    <tr>\n",
       "      <th>0</th>\n",
       "      <td>2011</td>\n",
       "      <td>HPC_kor_2010.pdf.txt</td>\n",
       "      <td>H HPC, Our life,  PC Su Sta in a bility R   Ou...</td>\n",
       "      <td>0</td>\n",
       "      <td>0</td>\n",
       "    </tr>\n",
       "    <tr>\n",
       "      <th>1</th>\n",
       "      <td>2011</td>\n",
       "      <td>2010_STX팬오션_지속가능보고서.pdf.txt</td>\n",
       "      <td>2010 STX 팬오션 지속가능경영보고서  NOW and FROM NOW About...</td>\n",
       "      <td>0</td>\n",
       "      <td>0</td>\n",
       "    </tr>\n",
       "    <tr>\n",
       "      <th>2</th>\n",
       "      <td>2011</td>\n",
       "      <td>풀무원 2010 지속경영보고서.pdf.txt</td>\n",
       "      <td>(cid:0)      (cid:0) 주 식 회 사 풀 무 원 홀 딩 스 서 울 ...</td>\n",
       "      <td>0</td>\n",
       "      <td>0</td>\n",
       "    </tr>\n",
       "    <tr>\n",
       "      <th>3</th>\n",
       "      <td>2011</td>\n",
       "      <td>웅진그룹_2011환경사회보고서.pdf.txt</td>\n",
       "      <td>웅 진       ●       2 0 1 www.woongjin.com 1 환  ...</td>\n",
       "      <td>0</td>\n",
       "      <td>0</td>\n",
       "    </tr>\n",
       "    <tr>\n",
       "      <th>4</th>\n",
       "      <td>2011</td>\n",
       "      <td>DGB금융그룹_SR_2010_2011.pdf.txt</td>\n",
       "      <td>DGB금융그룹 2010/2011 지속가능경영보고서 TOWARD THE WORLD  ...</td>\n",
       "      <td>0</td>\n",
       "      <td>0</td>\n",
       "    </tr>\n",
       "  </tbody>\n",
       "</table>\n",
       "</div>"
      ],
      "text/plain": [
       "   year                                   fileName  \\\n",
       "0  2011                       HPC_kor_2010.pdf.txt   \n",
       "1  2011  2010_STX팬오션_지속가능보고서.pdf.txt   \n",
       "2  2011    풀무원 2010 지속경영보고서.pdf.txt   \n",
       "3  2011   웅진그룹_2011환경사회보고서.pdf.txt   \n",
       "4  2011        DGB금융그룹_SR_2010_2011.pdf.txt   \n",
       "\n",
       "                                                text preprocessing keywords  \n",
       "0  H HPC, Our life,  PC Su Sta in a bility R   Ou...             0        0  \n",
       "1  2010 STX 팬오션 지속가능경영보고서  NOW and FROM NOW About...             0        0  \n",
       "2   (cid:0)      (cid:0) 주 식 회 사 풀 무 원 홀 딩 스 서 울 ...             0        0  \n",
       "3  웅 진       ●       2 0 1 www.woongjin.com 1 환  ...             0        0  \n",
       "4  DGB금융그룹 2010/2011 지속가능경영보고서 TOWARD THE WORLD  ...             0        0  "
      ]
     },
     "execution_count": 5,
     "metadata": {},
     "output_type": "execute_result"
    }
   ],
   "source": [
    "df.head()"
   ]
  },
  {
   "cell_type": "code",
   "execution_count": 6,
   "metadata": {},
   "outputs": [
    {
     "data": {
      "text/plain": [
       "1043"
      ]
     },
     "execution_count": 6,
     "metadata": {},
     "output_type": "execute_result"
    }
   ],
   "source": [
    "len(df)"
   ]
  },
  {
   "cell_type": "markdown",
   "metadata": {},
   "source": [
    "### 정규표현식으로 전처리"
   ]
  },
  {
   "cell_type": "code",
   "execution_count": 7,
   "metadata": {},
   "outputs": [],
   "source": [
    "def preprocessing_regex(text):\n",
    "    import re\n",
    "    \n",
    "    afterText = re.sub('[^가-힣a-zA-Z]', ' ', text)\n",
    "    afterText = re.sub('(\\(cid:[0-9]+\\))', ' ', afterText)\n",
    "    afterText = re.sub('/\\r\\n|\\r|\\n/', '', afterText)       # 개행문자 제거\n",
    "    afterText = re.sub(' +', ' ', afterText)                # 연속된 공백 한개로\n",
    "    \n",
    "    return afterText"
   ]
  },
  {
   "cell_type": "code",
   "execution_count": 8,
   "metadata": {},
   "outputs": [
    {
     "data": {
      "text/html": [
       "<div>\n",
       "<style scoped>\n",
       "    .dataframe tbody tr th:only-of-type {\n",
       "        vertical-align: middle;\n",
       "    }\n",
       "\n",
       "    .dataframe tbody tr th {\n",
       "        vertical-align: top;\n",
       "    }\n",
       "\n",
       "    .dataframe thead th {\n",
       "        text-align: right;\n",
       "    }\n",
       "</style>\n",
       "<table border=\"1\" class=\"dataframe\">\n",
       "  <thead>\n",
       "    <tr style=\"text-align: right;\">\n",
       "      <th></th>\n",
       "      <th>year</th>\n",
       "      <th>fileName</th>\n",
       "      <th>text</th>\n",
       "      <th>preprocessing</th>\n",
       "      <th>keywords</th>\n",
       "    </tr>\n",
       "  </thead>\n",
       "  <tbody>\n",
       "    <tr>\n",
       "      <th>0</th>\n",
       "      <td>2011</td>\n",
       "      <td>HPC_kor_2010.pdf.txt</td>\n",
       "      <td>H HPC, Our life,  PC Su Sta in a bility R   Ou...</td>\n",
       "      <td>H HPC Our life PC Su Sta in a bility R Our fut...</td>\n",
       "      <td>0</td>\n",
       "    </tr>\n",
       "    <tr>\n",
       "      <th>1</th>\n",
       "      <td>2011</td>\n",
       "      <td>2010_STX팬오션_지속가능보고서.pdf.txt</td>\n",
       "      <td>2010 STX 팬오션 지속가능경영보고서  NOW and FROM NOW About...</td>\n",
       "      <td>STX 팬오션 지속가능경영보고서 NOW and FROM NOW About This...</td>\n",
       "      <td>0</td>\n",
       "    </tr>\n",
       "    <tr>\n",
       "      <th>2</th>\n",
       "      <td>2011</td>\n",
       "      <td>풀무원 2010 지속경영보고서.pdf.txt</td>\n",
       "      <td>(cid:0)      (cid:0) 주 식 회 사 풀 무 원 홀 딩 스 서 울 ...</td>\n",
       "      <td>cid cid 주 식 회 사 풀 무 원 홀 딩 스 서 울 시 강 남 구 수 서 동...</td>\n",
       "      <td>0</td>\n",
       "    </tr>\n",
       "    <tr>\n",
       "      <th>3</th>\n",
       "      <td>2011</td>\n",
       "      <td>웅진그룹_2011환경사회보고서.pdf.txt</td>\n",
       "      <td>웅 진       ●       2 0 1 www.woongjin.com 1 환  ...</td>\n",
       "      <td>웅 진 www woongjin com 환 경 보 고 서 웅 진 환 경 보 고 서 웅...</td>\n",
       "      <td>0</td>\n",
       "    </tr>\n",
       "    <tr>\n",
       "      <th>4</th>\n",
       "      <td>2011</td>\n",
       "      <td>DGB금융그룹_SR_2010_2011.pdf.txt</td>\n",
       "      <td>DGB금융그룹 2010/2011 지속가능경영보고서 TOWARD THE WORLD  ...</td>\n",
       "      <td>DGB금융그룹 지속가능경영보고서 TOWARD THE WORLD Better Toge...</td>\n",
       "      <td>0</td>\n",
       "    </tr>\n",
       "  </tbody>\n",
       "</table>\n",
       "</div>"
      ],
      "text/plain": [
       "   year                                   fileName  \\\n",
       "0  2011                       HPC_kor_2010.pdf.txt   \n",
       "1  2011  2010_STX팬오션_지속가능보고서.pdf.txt   \n",
       "2  2011    풀무원 2010 지속경영보고서.pdf.txt   \n",
       "3  2011   웅진그룹_2011환경사회보고서.pdf.txt   \n",
       "4  2011        DGB금융그룹_SR_2010_2011.pdf.txt   \n",
       "\n",
       "                                                text  \\\n",
       "0  H HPC, Our life,  PC Su Sta in a bility R   Ou...   \n",
       "1  2010 STX 팬오션 지속가능경영보고서  NOW and FROM NOW About...   \n",
       "2   (cid:0)      (cid:0) 주 식 회 사 풀 무 원 홀 딩 스 서 울 ...   \n",
       "3  웅 진       ●       2 0 1 www.woongjin.com 1 환  ...   \n",
       "4  DGB금융그룹 2010/2011 지속가능경영보고서 TOWARD THE WORLD  ...   \n",
       "\n",
       "                                       preprocessing keywords  \n",
       "0  H HPC Our life PC Su Sta in a bility R Our fut...        0  \n",
       "1   STX 팬오션 지속가능경영보고서 NOW and FROM NOW About This...        0  \n",
       "2   cid cid 주 식 회 사 풀 무 원 홀 딩 스 서 울 시 강 남 구 수 서 동...        0  \n",
       "3  웅 진 www woongjin com 환 경 보 고 서 웅 진 환 경 보 고 서 웅...        0  \n",
       "4  DGB금융그룹 지속가능경영보고서 TOWARD THE WORLD Better Toge...        0  "
      ]
     },
     "execution_count": 8,
     "metadata": {},
     "output_type": "execute_result"
    }
   ],
   "source": [
    "df['preprocessing'] = df['text'].apply(preprocessing_regex)\n",
    "df.head()"
   ]
  },
  {
   "cell_type": "code",
   "execution_count": 26,
   "metadata": {},
   "outputs": [],
   "source": [
    "df.to_csv('all_before_extracting_keywords.csv', index = False)"
   ]
  },
  {
   "cell_type": "markdown",
   "metadata": {},
   "source": [
    "### 키워드 추출"
   ]
  },
  {
   "cell_type": "code",
   "execution_count": 9,
   "metadata": {},
   "outputs": [],
   "source": [
    "from krwordrank.word import KRWordRank\n",
    "from krwordrank.hangle import normalize      # 숫자, 영어 포함 여부\n",
    "from krwordrank.word import summarize_with_keywords\n",
    "import numpy as np\n",
    "\n",
    "def extract_keywords(text):\n",
    "    error_cnt = 0\n",
    "    try:\n",
    "        min_count = 3       # 단어의 최소 출현 빈도수 (그래프 생성 시) [5, 3]\n",
    "        max_length = 30     # 단어의 최대 길이 [10, 30]\n",
    "        verbose = False     # [True, False]\n",
    "        wordrank_extractor = KRWordRank(min_count, max_length, verbose)\n",
    "\n",
    "        beta = 0.85         # PageRank의 decaying factor beta\n",
    "        max_iter = 30       # [10, 30]\n",
    "\n",
    "        text = normalize(text, english = True, number = False).split(' ')\n",
    "        keywords, rank, graph = wordrank_extractor.extract(text, beta, max_iter)\n",
    "\n",
    "    #     stopwords = {'대한','의견','단어'}\n",
    "    #     keywords = summarize_with_keywords(texts, min_count = 3, max_length = 30, beta = 0.85, max_iter = 30, stopwords = stopwords, verbose = True)\n",
    "        keywords = summarize_with_keywords(text)    # with default arguments\n",
    "        result = sorted(keywords.items(), key = lambda x:x[1], reverse = True)\n",
    "\n",
    "        return [result[x][0] for x in range(len(result))]\n",
    "    \n",
    "    except:\n",
    "        error_cnt += 1\n",
    "        print(error_cnt)\n",
    "        \n",
    "        return np.nan"
   ]
  },
  {
   "cell_type": "code",
   "execution_count": 10,
   "metadata": {},
   "outputs": [
    {
     "name": "stdout",
     "output_type": "stream",
     "text": [
      "1\n"
     ]
    },
    {
     "data": {
      "text/html": [
       "<div>\n",
       "<style scoped>\n",
       "    .dataframe tbody tr th:only-of-type {\n",
       "        vertical-align: middle;\n",
       "    }\n",
       "\n",
       "    .dataframe tbody tr th {\n",
       "        vertical-align: top;\n",
       "    }\n",
       "\n",
       "    .dataframe thead th {\n",
       "        text-align: right;\n",
       "    }\n",
       "</style>\n",
       "<table border=\"1\" class=\"dataframe\">\n",
       "  <thead>\n",
       "    <tr style=\"text-align: right;\">\n",
       "      <th></th>\n",
       "      <th>year</th>\n",
       "      <th>fileName</th>\n",
       "      <th>text</th>\n",
       "      <th>preprocessing</th>\n",
       "      <th>keywords</th>\n",
       "    </tr>\n",
       "  </thead>\n",
       "  <tbody>\n",
       "    <tr>\n",
       "      <th>0</th>\n",
       "      <td>2011</td>\n",
       "      <td>HPC_kor_2010.pdf.txt</td>\n",
       "      <td>H HPC, Our life,  PC Su Sta in a bility R   Ou...</td>\n",
       "      <td>H HPC Our life PC Su Sta in a bility R Our fut...</td>\n",
       "      <td>[있습니, 지속, 활동, 환경, 호남석, 제품, 녹색, 공정, 보고, 에너, 협력,...</td>\n",
       "    </tr>\n",
       "    <tr>\n",
       "      <th>1</th>\n",
       "      <td>2011</td>\n",
       "      <td>2010_STX팬오션_지속가능보고서.pdf.txt</td>\n",
       "      <td>2010 STX 팬오션 지속가능경영보고서  NOW and FROM NOW About...</td>\n",
       "      <td>STX 팬오션 지속가능경영보고서 NOW and FROM NOW About This...</td>\n",
       "      <td>[있습니, STX팬, 지속, 환경, 임직, 선박, 배출, 활동, 다양, 확보, 노력...</td>\n",
       "    </tr>\n",
       "    <tr>\n",
       "      <th>2</th>\n",
       "      <td>2011</td>\n",
       "      <td>풀무원 2010 지속경영보고서.pdf.txt</td>\n",
       "      <td>(cid:0)      (cid:0) 주 식 회 사 풀 무 원 홀 딩 스 서 울 ...</td>\n",
       "      <td>cid cid 주 식 회 사 풀 무 원 홀 딩 스 서 울 시 강 남 구 수 서 동...</td>\n",
       "      <td>[풀무원, 제품, 사회, 지속경, 고객, 환경, 지표, 바른, 브랜드, 관리, GR...</td>\n",
       "    </tr>\n",
       "    <tr>\n",
       "      <th>3</th>\n",
       "      <td>2011</td>\n",
       "      <td>웅진그룹_2011환경사회보고서.pdf.txt</td>\n",
       "      <td>웅 진       ●       2 0 1 www.woongjin.com 1 환  ...</td>\n",
       "      <td>웅 진 www woongjin com 환 경 보 고 서 웅 진 환 경 보 고 서 웅...</td>\n",
       "      <td>[웅진, 환경, 있습니, 에너, 계열, 사용, 제품, 지속, 사업, 온실가, 배출,...</td>\n",
       "    </tr>\n",
       "    <tr>\n",
       "      <th>4</th>\n",
       "      <td>2011</td>\n",
       "      <td>DGB금융그룹_SR_2010_2011.pdf.txt</td>\n",
       "      <td>DGB금융그룹 2010/2011 지속가능경영보고서 TOWARD THE WORLD  ...</td>\n",
       "      <td>DGB금융그룹 지속가능경영보고서 TOWARD THE WORLD Better Toge...</td>\n",
       "      <td>[지역, 지속, DGB, 있습, 사회, 대구, 금융, 고객, 보고, 환경, 지원, ...</td>\n",
       "    </tr>\n",
       "  </tbody>\n",
       "</table>\n",
       "</div>"
      ],
      "text/plain": [
       "   year                                   fileName  \\\n",
       "0  2011                       HPC_kor_2010.pdf.txt   \n",
       "1  2011  2010_STX팬오션_지속가능보고서.pdf.txt   \n",
       "2  2011    풀무원 2010 지속경영보고서.pdf.txt   \n",
       "3  2011   웅진그룹_2011환경사회보고서.pdf.txt   \n",
       "4  2011        DGB금융그룹_SR_2010_2011.pdf.txt   \n",
       "\n",
       "                                                text  \\\n",
       "0  H HPC, Our life,  PC Su Sta in a bility R   Ou...   \n",
       "1  2010 STX 팬오션 지속가능경영보고서  NOW and FROM NOW About...   \n",
       "2   (cid:0)      (cid:0) 주 식 회 사 풀 무 원 홀 딩 스 서 울 ...   \n",
       "3  웅 진       ●       2 0 1 www.woongjin.com 1 환  ...   \n",
       "4  DGB금융그룹 2010/2011 지속가능경영보고서 TOWARD THE WORLD  ...   \n",
       "\n",
       "                                       preprocessing  \\\n",
       "0  H HPC Our life PC Su Sta in a bility R Our fut...   \n",
       "1   STX 팬오션 지속가능경영보고서 NOW and FROM NOW About This...   \n",
       "2   cid cid 주 식 회 사 풀 무 원 홀 딩 스 서 울 시 강 남 구 수 서 동...   \n",
       "3  웅 진 www woongjin com 환 경 보 고 서 웅 진 환 경 보 고 서 웅...   \n",
       "4  DGB금융그룹 지속가능경영보고서 TOWARD THE WORLD Better Toge...   \n",
       "\n",
       "                                            keywords  \n",
       "0  [있습니, 지속, 활동, 환경, 호남석, 제품, 녹색, 공정, 보고, 에너, 협력,...  \n",
       "1  [있습니, STX팬, 지속, 환경, 임직, 선박, 배출, 활동, 다양, 확보, 노력...  \n",
       "2  [풀무원, 제품, 사회, 지속경, 고객, 환경, 지표, 바른, 브랜드, 관리, GR...  \n",
       "3  [웅진, 환경, 있습니, 에너, 계열, 사용, 제품, 지속, 사업, 온실가, 배출,...  \n",
       "4  [지역, 지속, DGB, 있습, 사회, 대구, 금융, 고객, 보고, 환경, 지원, ...  "
      ]
     },
     "execution_count": 10,
     "metadata": {},
     "output_type": "execute_result"
    }
   ],
   "source": [
    "df['keywords'] = df['preprocessing'].apply(extract_keywords)\n",
    "df.head()"
   ]
  },
  {
   "cell_type": "code",
   "execution_count": 15,
   "metadata": {},
   "outputs": [
    {
     "data": {
      "text/plain": [
       "'H HPC, Our life,  PC Su Sta in a bility R   Our future ePo R t 20 10 HPC Sustainability Report 2010 다. 니 습 었 되 쇄 인 로  으 름 기 에 콩 081 이 8 종 5- 경  54 환 2) 한 친 S  (0 용 U 사 PL 고지를  ESIGN 는 재생 d by D 고서 gne 본 보 Desi 서울시 동작구 신대방동 395-67 롯데타워빌딩 스마트폰 QR코드 어플리케이션을 다운받아 스캔하시면  모바일 설문조사에 참여하실 수 있습니다. 보고서 개요 본 보고서는 호남석유화학의 지속가능한 발전을 위한 노력과 결실을 담은 네 번째 보고서입니 보고 기간 및 범위 다. 2010 지속가능경영보고서는 이해관계자에게 친근한 기업으로 다가서고자 이해관계자 의 호남석유화학은 2007년부터 매년 지속가능경영보고서를 발 간하고 있으며, 본 보고서는 2010년 1월 1일부터 12월 31일 견을 적극 수렴하였으며, 호남석유화학 제'"
      ]
     },
     "execution_count": 15,
     "metadata": {},
     "output_type": "execute_result"
    }
   ],
   "source": [
    "df.text[0][:500]"
   ]
  },
  {
   "cell_type": "code",
   "execution_count": 13,
   "metadata": {},
   "outputs": [
    {
     "data": {
      "text/plain": [
       "'H HPC Our life PC Su Sta in a bility R Our future ePo R t HPC Sustainability Report 다 니 습 었 되 쇄 인 로 으 름 기 에 콩 이 종 경 환 한 친 S 용 U 사 PL 고지를 ESIGN 는 재생 d by D 고서 gne 본 보 Desi 서울시 동작구 신대방동 롯데타워빌딩 스마트폰 QR코드 어플리케이션을 다운받아 스캔하시면 모바일 설문조사에 참여하실 수 있습니다 보고서 개요 본 보고서는 호남석유화학의 지속가능한 발전을 위한 노력과 결실을 담은 네 번째 보고서입니 보고 기간 및 범위 다 지속가능경영보고서는 이해관계자에게 친근한 기업으로 다가서고자 이해관계자 의 호남석유화학은 년부터 매년 지속가능경영보고서를 발 간하고 있으며 본 보고서는 년 월 일부터 월 일 견을 적극 수렴하였으며 호남석유화학 제품으로 만들어지는 좀 더 편리하고 즐거운 일상의 모 까지의 활동을 주로 담고 있습니다 이해관계자 여러분의 이해 습을 담았습니다'"
      ]
     },
     "execution_count": 13,
     "metadata": {},
     "output_type": "execute_result"
    }
   ],
   "source": [
    "df.preprocessing[0][:500]"
   ]
  },
  {
   "cell_type": "markdown",
   "metadata": {},
   "source": [
    "### 키워드 추출 오류값 1개 삭제"
   ]
  },
  {
   "cell_type": "code",
   "execution_count": 4,
   "metadata": {},
   "outputs": [
    {
     "data": {
      "text/html": [
       "<div>\n",
       "<style scoped>\n",
       "    .dataframe tbody tr th:only-of-type {\n",
       "        vertical-align: middle;\n",
       "    }\n",
       "\n",
       "    .dataframe tbody tr th {\n",
       "        vertical-align: top;\n",
       "    }\n",
       "\n",
       "    .dataframe thead th {\n",
       "        text-align: right;\n",
       "    }\n",
       "</style>\n",
       "<table border=\"1\" class=\"dataframe\">\n",
       "  <thead>\n",
       "    <tr style=\"text-align: right;\">\n",
       "      <th></th>\n",
       "      <th>year</th>\n",
       "      <th>fileName</th>\n",
       "      <th>text</th>\n",
       "      <th>preprocessing</th>\n",
       "      <th>keywords</th>\n",
       "    </tr>\n",
       "  </thead>\n",
       "  <tbody>\n",
       "    <tr>\n",
       "      <th>0</th>\n",
       "      <td>2011</td>\n",
       "      <td>HPC_kor_2010.pdf.txt</td>\n",
       "      <td>H HPC, Our life,  PC Su Sta in a bility R   Ou...</td>\n",
       "      <td>H HPC Our life PC Su Sta in a bility R Our fut...</td>\n",
       "      <td>['있습니', '지속', '활동', '환경', '호남석', '제품', '녹색', '...</td>\n",
       "    </tr>\n",
       "    <tr>\n",
       "      <th>1</th>\n",
       "      <td>2011</td>\n",
       "      <td>2010_STX팬오션_지속가능보고서.pdf.txt</td>\n",
       "      <td>2010 STX 팬오션 지속가능경영보고서  NOW and FROM NOW About...</td>\n",
       "      <td>STX 팬오션 지속가능경영보고서 NOW and FROM NOW About This...</td>\n",
       "      <td>['있습니', 'STX팬', '지속', '환경', '임직', '선박', '배출', ...</td>\n",
       "    </tr>\n",
       "    <tr>\n",
       "      <th>2</th>\n",
       "      <td>2011</td>\n",
       "      <td>풀무원 2010 지속경영보고서.pdf.txt</td>\n",
       "      <td>(cid:0)      (cid:0) 주 식 회 사 풀 무 원 홀 딩 스 서 울 ...</td>\n",
       "      <td>cid cid 주 식 회 사 풀 무 원 홀 딩 스 서 울 시 강 남 구 수 서 동...</td>\n",
       "      <td>['풀무원', '제품', '사회', '지속경', '고객', '환경', '지표', '...</td>\n",
       "    </tr>\n",
       "    <tr>\n",
       "      <th>3</th>\n",
       "      <td>2011</td>\n",
       "      <td>웅진그룹_2011환경사회보고서.pdf.txt</td>\n",
       "      <td>웅 진       ●       2 0 1 www.woongjin.com 1 환  ...</td>\n",
       "      <td>웅 진 www woongjin com 환 경 보 고 서 웅 진 환 경 보 고 서 웅...</td>\n",
       "      <td>['웅진', '환경', '있습니', '에너', '계열', '사용', '제품', '지...</td>\n",
       "    </tr>\n",
       "    <tr>\n",
       "      <th>4</th>\n",
       "      <td>2011</td>\n",
       "      <td>DGB금융그룹_SR_2010_2011.pdf.txt</td>\n",
       "      <td>DGB금융그룹 2010/2011 지속가능경영보고서 TOWARD THE WORLD  ...</td>\n",
       "      <td>DGB금융그룹 지속가능경영보고서 TOWARD THE WORLD Better Toge...</td>\n",
       "      <td>['지역', '지속', 'DGB', '있습', '사회', '대구', '금융', '고...</td>\n",
       "    </tr>\n",
       "    <tr>\n",
       "      <th>...</th>\n",
       "      <td>...</td>\n",
       "      <td>...</td>\n",
       "      <td>...</td>\n",
       "      <td>...</td>\n",
       "      <td>...</td>\n",
       "    </tr>\n",
       "    <tr>\n",
       "      <th>1038</th>\n",
       "      <td>2021</td>\n",
       "      <td>국립생태원.pdf.txt</td>\n",
       "      <td>None ABOUT  THIS REPORT 보고서 개요 CONTENTS 국립생태원은...</td>\n",
       "      <td>None ABOUT THIS REPORT 보고서 개요 CONTENTS 국립생태원은 ...</td>\n",
       "      <td>['생태', '국립생태원', '있습니', '환경', '안전', '사회', '자연',...</td>\n",
       "    </tr>\n",
       "    <tr>\n",
       "      <th>1039</th>\n",
       "      <td>2021</td>\n",
       "      <td>LX하우시스.pdf.txt</td>\n",
       "      <td>LX하우시스 지속가능경영보고서 2021 Nature, Human and Space ...</td>\n",
       "      <td>LX하우시스 지속가능경영보고서 Nature Human and Space LX Hau...</td>\n",
       "      <td>['환경', '있습니', '안전', '지속', '협력', '사업', '고객', '제...</td>\n",
       "    </tr>\n",
       "    <tr>\n",
       "      <th>1040</th>\n",
       "      <td>2021</td>\n",
       "      <td>두산인프라코어.pdf.txt</td>\n",
       "      <td>DOOSAN INFRACORE  2020 Integrated Report file ...</td>\n",
       "      <td>DOOSAN INFRACORE Integrated Report file Doosan...</td>\n",
       "      <td>['있습', '협력', '두산', '지속', '사업', '진행', '기술', '기반...</td>\n",
       "    </tr>\n",
       "    <tr>\n",
       "      <th>1041</th>\n",
       "      <td>2021</td>\n",
       "      <td>SK가스.pdf.txt</td>\n",
       "      <td>None Cover Story 경남 창녕 소재 우포늪은 람사르 협약 지정 습지이자 ...</td>\n",
       "      <td>None Cover Story 경남 창녕 소재 우포늪은 람사르 협약 지정 습지이자 ...</td>\n",
       "      <td>['사업', '지속', '가스', '있습니', '사회', '리스', '배출', '이...</td>\n",
       "    </tr>\n",
       "    <tr>\n",
       "      <th>1042</th>\n",
       "      <td>2021</td>\n",
       "      <td>SK브로드밴드.pdf.txt</td>\n",
       "      <td>None ABOUT THIS REPORT C O N N E C T 2021  SK ...</td>\n",
       "      <td>None ABOUT THIS REPORT C O N N E C T SK TO THE...</td>\n",
       "      <td>['고객', '사업', '장기', '사회', 'Futur', '브로', 'Repor...</td>\n",
       "    </tr>\n",
       "  </tbody>\n",
       "</table>\n",
       "<p>1043 rows × 5 columns</p>\n",
       "</div>"
      ],
      "text/plain": [
       "      year                                   fileName  \\\n",
       "0     2011                       HPC_kor_2010.pdf.txt   \n",
       "1     2011  2010_STX팬오션_지속가능보고서.pdf.txt   \n",
       "2     2011    풀무원 2010 지속경영보고서.pdf.txt   \n",
       "3     2011   웅진그룹_2011환경사회보고서.pdf.txt   \n",
       "4     2011        DGB금융그룹_SR_2010_2011.pdf.txt   \n",
       "...    ...                                        ...   \n",
       "1038  2021                     국립생태원.pdf.txt   \n",
       "1039  2021                         LX하우시스.pdf.txt   \n",
       "1040  2021                   두산인프라코어.pdf.txt   \n",
       "1041  2021                             SK가스.pdf.txt   \n",
       "1042  2021                      SK브로드밴드.pdf.txt   \n",
       "\n",
       "                                                   text  \\\n",
       "0     H HPC, Our life,  PC Su Sta in a bility R   Ou...   \n",
       "1     2010 STX 팬오션 지속가능경영보고서  NOW and FROM NOW About...   \n",
       "2      (cid:0)      (cid:0) 주 식 회 사 풀 무 원 홀 딩 스 서 울 ...   \n",
       "3     웅 진       ●       2 0 1 www.woongjin.com 1 환  ...   \n",
       "4     DGB금융그룹 2010/2011 지속가능경영보고서 TOWARD THE WORLD  ...   \n",
       "...                                                 ...   \n",
       "1038  None ABOUT  THIS REPORT 보고서 개요 CONTENTS 국립생태원은...   \n",
       "1039  LX하우시스 지속가능경영보고서 2021 Nature, Human and Space ...   \n",
       "1040  DOOSAN INFRACORE  2020 Integrated Report file ...   \n",
       "1041  None Cover Story 경남 창녕 소재 우포늪은 람사르 협약 지정 습지이자 ...   \n",
       "1042  None ABOUT THIS REPORT C O N N E C T 2021  SK ...   \n",
       "\n",
       "                                          preprocessing  \\\n",
       "0     H HPC Our life PC Su Sta in a bility R Our fut...   \n",
       "1      STX 팬오션 지속가능경영보고서 NOW and FROM NOW About This...   \n",
       "2      cid cid 주 식 회 사 풀 무 원 홀 딩 스 서 울 시 강 남 구 수 서 동...   \n",
       "3     웅 진 www woongjin com 환 경 보 고 서 웅 진 환 경 보 고 서 웅...   \n",
       "4     DGB금융그룹 지속가능경영보고서 TOWARD THE WORLD Better Toge...   \n",
       "...                                                 ...   \n",
       "1038  None ABOUT THIS REPORT 보고서 개요 CONTENTS 국립생태원은 ...   \n",
       "1039  LX하우시스 지속가능경영보고서 Nature Human and Space LX Hau...   \n",
       "1040  DOOSAN INFRACORE Integrated Report file Doosan...   \n",
       "1041  None Cover Story 경남 창녕 소재 우포늪은 람사르 협약 지정 습지이자 ...   \n",
       "1042  None ABOUT THIS REPORT C O N N E C T SK TO THE...   \n",
       "\n",
       "                                               keywords  \n",
       "0     ['있습니', '지속', '활동', '환경', '호남석', '제품', '녹색', '...  \n",
       "1     ['있습니', 'STX팬', '지속', '환경', '임직', '선박', '배출', ...  \n",
       "2     ['풀무원', '제품', '사회', '지속경', '고객', '환경', '지표', '...  \n",
       "3     ['웅진', '환경', '있습니', '에너', '계열', '사용', '제품', '지...  \n",
       "4     ['지역', '지속', 'DGB', '있습', '사회', '대구', '금융', '고...  \n",
       "...                                                 ...  \n",
       "1038  ['생태', '국립생태원', '있습니', '환경', '안전', '사회', '자연',...  \n",
       "1039  ['환경', '있습니', '안전', '지속', '협력', '사업', '고객', '제...  \n",
       "1040  ['있습', '협력', '두산', '지속', '사업', '진행', '기술', '기반...  \n",
       "1041  ['사업', '지속', '가스', '있습니', '사회', '리스', '배출', '이...  \n",
       "1042  ['고객', '사업', '장기', '사회', 'Futur', '브로', 'Repor...  \n",
       "\n",
       "[1043 rows x 5 columns]"
      ]
     },
     "execution_count": 4,
     "metadata": {},
     "output_type": "execute_result"
    }
   ],
   "source": [
    "df = pd.read_csv('all_after_keywords.csv')\n",
    "df"
   ]
  },
  {
   "cell_type": "code",
   "execution_count": 5,
   "metadata": {},
   "outputs": [
    {
     "data": {
      "text/html": [
       "<div>\n",
       "<style scoped>\n",
       "    .dataframe tbody tr th:only-of-type {\n",
       "        vertical-align: middle;\n",
       "    }\n",
       "\n",
       "    .dataframe tbody tr th {\n",
       "        vertical-align: top;\n",
       "    }\n",
       "\n",
       "    .dataframe thead th {\n",
       "        text-align: right;\n",
       "    }\n",
       "</style>\n",
       "<table border=\"1\" class=\"dataframe\">\n",
       "  <thead>\n",
       "    <tr style=\"text-align: right;\">\n",
       "      <th></th>\n",
       "      <th>year</th>\n",
       "      <th>fileName</th>\n",
       "      <th>text</th>\n",
       "      <th>preprocessing</th>\n",
       "      <th>keywords</th>\n",
       "    </tr>\n",
       "  </thead>\n",
       "  <tbody>\n",
       "    <tr>\n",
       "      <th>553</th>\n",
       "      <td>2016</td>\n",
       "      <td>CJ제일제당.pdf.txt</td>\n",
       "      <td>NaN</td>\n",
       "      <td>NaN</td>\n",
       "      <td>NaN</td>\n",
       "    </tr>\n",
       "  </tbody>\n",
       "</table>\n",
       "</div>"
      ],
      "text/plain": [
       "     year              fileName text preprocessing keywords\n",
       "553  2016  CJ제일제당.pdf.txt  NaN           NaN      NaN"
      ]
     },
     "execution_count": 5,
     "metadata": {},
     "output_type": "execute_result"
    }
   ],
   "source": [
    "df[df.keywords.isna()]"
   ]
  },
  {
   "cell_type": "code",
   "execution_count": 6,
   "metadata": {},
   "outputs": [
    {
     "data": {
      "text/plain": [
       "1042"
      ]
     },
     "execution_count": 6,
     "metadata": {},
     "output_type": "execute_result"
    }
   ],
   "source": [
    "df.drop(553, inplace = True)\n",
    "df.reset_index(drop = True, inplace = True)\n",
    "len(df)"
   ]
  },
  {
   "cell_type": "code",
   "execution_count": 7,
   "metadata": {},
   "outputs": [],
   "source": [
    "df.to_csv('all_after_keywords.csv', index = False)"
   ]
  },
  {
   "cell_type": "code",
   "execution_count": null,
   "metadata": {},
   "outputs": [],
   "source": []
  }
 ],
 "metadata": {
  "kernelspec": {
   "display_name": "Python 3",
   "language": "python",
   "name": "python3"
  },
  "language_info": {
   "codemirror_mode": {
    "name": "ipython",
    "version": 3
   },
   "file_extension": ".py",
   "mimetype": "text/x-python",
   "name": "python",
   "nbconvert_exporter": "python",
   "pygments_lexer": "ipython3",
   "version": "3.8.5"
  }
 },
 "nbformat": 4,
 "nbformat_minor": 4
}
