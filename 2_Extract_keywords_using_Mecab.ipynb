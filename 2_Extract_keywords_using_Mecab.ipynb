{
 "cells": [
  {
   "cell_type": "markdown",
   "metadata": {},
   "source": [
    "# KR-WordRank\n",
    "- 비지도학습으로 한국어 텍스트에서 키워드를 자동으로 추출해주는 라이브러리\n",
    "- **주요 가정 : 단어 주변에는 단어가 등장하며, 올바른 단어는 주위의 많은 단어들과 연결되어 있다. 따라서 단어는 주위 단어들에 의하여 단어 점수가 보강(reinforced)된다.**\n",
    "- [KR-WordRank Reference](https://github.com/lovit/KR-WordRank)\n",
    "- [Setup]\n",
    "```\n",
    "pip install krwordrank\n",
    "```"
   ]
  },
  {
   "cell_type": "markdown",
   "metadata": {},
   "source": [
    "### 전체 파일 합치기"
   ]
  },
  {
   "cell_type": "code",
   "execution_count": 1,
   "metadata": {},
   "outputs": [],
   "source": [
    "import os\n",
    "os.chdir('../data/')"
   ]
  },
  {
   "cell_type": "code",
   "execution_count": 2,
   "metadata": {},
   "outputs": [
    {
     "data": {
      "text/html": [
       "<div>\n",
       "<style scoped>\n",
       "    .dataframe tbody tr th:only-of-type {\n",
       "        vertical-align: middle;\n",
       "    }\n",
       "\n",
       "    .dataframe tbody tr th {\n",
       "        vertical-align: top;\n",
       "    }\n",
       "\n",
       "    .dataframe thead th {\n",
       "        text-align: right;\n",
       "    }\n",
       "</style>\n",
       "<table border=\"1\" class=\"dataframe\">\n",
       "  <thead>\n",
       "    <tr style=\"text-align: right;\">\n",
       "      <th></th>\n",
       "      <th>year</th>\n",
       "      <th>fileName</th>\n",
       "      <th>text</th>\n",
       "      <th>mecab_preprocessing</th>\n",
       "      <th>keywords</th>\n",
       "    </tr>\n",
       "  </thead>\n",
       "  <tbody>\n",
       "  </tbody>\n",
       "</table>\n",
       "</div>"
      ],
      "text/plain": [
       "Empty DataFrame\n",
       "Columns: [year, fileName, text, mecab_preprocessing, keywords]\n",
       "Index: []"
      ]
     },
     "execution_count": 2,
     "metadata": {},
     "output_type": "execute_result"
    }
   ],
   "source": [
    "import pandas as pd\n",
    "import numpy as np\n",
    "from tqdm import tqdm, tqdm_pandas\n",
    "\n",
    "year = [str(x) for x in range(2018, 2022)]   # 2018 ~ 2021\n",
    "df = pd.DataFrame(columns = ['year', 'fileName', 'text', 'mecab_preprocessing', 'keywords'])\n",
    "df"
   ]
  },
  {
   "cell_type": "code",
   "execution_count": 3,
   "metadata": {},
   "outputs": [
    {
     "name": "stderr",
     "output_type": "stream",
     "text": [
      "100%|██████████| 4/4 [00:01<00:00,  3.71it/s]\n"
     ]
    }
   ],
   "source": [
    "for y in tqdm(year):\n",
    "    fileList = os.listdir('./' + y)\n",
    "    for file in fileList:\n",
    "        with open('./' + y + '/' + file, 'r') as f:\n",
    "            text = f.read().splitlines()\n",
    "        if text and text[0].strip():\n",
    "            df_slice = pd.Series([y, file, text[0].strip(), 0, 0], index = df.columns)\n",
    "            df = df.append(df_slice, ignore_index = True)\n",
    "# df.to_csv('mecab_all_before_preprocessing.csv', index = False)"
   ]
  },
  {
   "cell_type": "code",
   "execution_count": 4,
   "metadata": {
    "scrolled": true
   },
   "outputs": [
    {
     "data": {
      "text/html": [
       "<div>\n",
       "<style scoped>\n",
       "    .dataframe tbody tr th:only-of-type {\n",
       "        vertical-align: middle;\n",
       "    }\n",
       "\n",
       "    .dataframe tbody tr th {\n",
       "        vertical-align: top;\n",
       "    }\n",
       "\n",
       "    .dataframe thead th {\n",
       "        text-align: right;\n",
       "    }\n",
       "</style>\n",
       "<table border=\"1\" class=\"dataframe\">\n",
       "  <thead>\n",
       "    <tr style=\"text-align: right;\">\n",
       "      <th></th>\n",
       "      <th>year</th>\n",
       "      <th>fileName</th>\n",
       "      <th>text</th>\n",
       "      <th>mecab_preprocessing</th>\n",
       "      <th>keywords</th>\n",
       "    </tr>\n",
       "  </thead>\n",
       "  <tbody>\n",
       "    <tr>\n",
       "      <th>0</th>\n",
       "      <td>2018</td>\n",
       "      <td>한국산업인력공단 지속가능보고서(2017...</td>\n",
       "      <td>지속가능경영 보고서   목차                             보고...</td>\n",
       "      <td>0</td>\n",
       "      <td>0</td>\n",
       "    </tr>\n",
       "    <tr>\n",
       "      <th>1</th>\n",
       "      <td>2018</td>\n",
       "      <td>LGCNS_Sustainability_Report_2017-2018.pdf.txt</td>\n",
       "      <td>-                                         보고서 ...</td>\n",
       "      <td>0</td>\n",
       "      <td>0</td>\n",
       "    </tr>\n",
       "    <tr>\n",
       "      <th>2</th>\n",
       "      <td>2018</td>\n",
       "      <td>한국국토정보공사 2017 지속가능경영보ᄀ...</td>\n",
       "      <td>지속가능경영보고서            한 국 국 토 정 보 공 사 지 속 가 능 경...</td>\n",
       "      <td>0</td>\n",
       "      <td>0</td>\n",
       "    </tr>\n",
       "    <tr>\n",
       "      <th>3</th>\n",
       "      <td>2018</td>\n",
       "      <td>2018 롯데건설 지속가능경영보고서.pdf.txt</td>\n",
       "      <td>롯데건설 지속가능경영보고서   보고서 개요   보고서 특징   롯데건설은     년...</td>\n",
       "      <td>0</td>\n",
       "      <td>0</td>\n",
       "    </tr>\n",
       "    <tr>\n",
       "      <th>4</th>\n",
       "      <td>2018</td>\n",
       "      <td>2018_NH투자증권.pdf.txt</td>\n",
       "      <td>투 자 증 권 지 속 가 능 경 영 보 고 서        서울특별시 영등포구 여의...</td>\n",
       "      <td>0</td>\n",
       "      <td>0</td>\n",
       "    </tr>\n",
       "  </tbody>\n",
       "</table>\n",
       "</div>"
      ],
      "text/plain": [
       "   year                                           fileName  \\\n",
       "0  2018  한국산업인력공단 지속가능보고서(2017...   \n",
       "1  2018      LGCNS_Sustainability_Report_2017-2018.pdf.txt   \n",
       "2  2018  한국국토정보공사 2017 지속가능경영보ᄀ...   \n",
       "3  2018    2018 롯데건설 지속가능경영보고서.pdf.txt   \n",
       "4  2018                          2018_NH투자증권.pdf.txt   \n",
       "\n",
       "                                                text mecab_preprocessing  \\\n",
       "0  지속가능경영 보고서   목차                             보고...                   0   \n",
       "1  -                                         보고서 ...                   0   \n",
       "2  지속가능경영보고서            한 국 국 토 정 보 공 사 지 속 가 능 경...                   0   \n",
       "3  롯데건설 지속가능경영보고서   보고서 개요   보고서 특징   롯데건설은     년...                   0   \n",
       "4  투 자 증 권 지 속 가 능 경 영 보 고 서        서울특별시 영등포구 여의...                   0   \n",
       "\n",
       "  keywords  \n",
       "0        0  \n",
       "1        0  \n",
       "2        0  \n",
       "3        0  \n",
       "4        0  "
      ]
     },
     "execution_count": 4,
     "metadata": {},
     "output_type": "execute_result"
    }
   ],
   "source": [
    "df.head()"
   ]
  },
  {
   "cell_type": "code",
   "execution_count": 5,
   "metadata": {},
   "outputs": [
    {
     "data": {
      "text/plain": [
       "236"
      ]
     },
     "execution_count": 5,
     "metadata": {},
     "output_type": "execute_result"
    }
   ],
   "source": [
    "len(df)"
   ]
  },
  {
   "cell_type": "markdown",
   "metadata": {},
   "source": [
    "### 정규표현식으로 전처리 + Mecab 형태소 분석"
   ]
  },
  {
   "cell_type": "code",
   "execution_count": 9,
   "metadata": {},
   "outputs": [],
   "source": [
    "import re\n",
    "from ekonlpy.tag import Mecab\n",
    "\n",
    "def preprocessing_regex_mecab_All(text):\n",
    "    \n",
    "    afterText = re.sub('[^가-힣]', ' ', text)                # 한글만\n",
    "    afterText = re.sub('/\\r\\n|\\r|\\n/', ' ', afterText)      # 개행문자 제거\n",
    "    afterText = re.sub(' +', ' ', afterText)                # 연속된 공백 한개로\n",
    "    \n",
    "    mecab = Mecab()\n",
    "    result = mecab.pos(afterText)\n",
    "    result = [x[0] for x in result]\n",
    "    \n",
    "    return result"
   ]
  },
  {
   "cell_type": "code",
   "execution_count": 10,
   "metadata": {},
   "outputs": [
    {
     "name": "stderr",
     "output_type": "stream",
     "text": [
      "/opt/anaconda3/lib/python3.8/site-packages/tqdm/std.py:697: FutureWarning: The Panel class is removed from pandas. Accessing it from the top-level namespace will also be removed in the next version\n",
      "  from pandas import Panel\n",
      "100%|██████████| 236/236 [04:37<00:00,  1.18s/it]\n"
     ]
    },
    {
     "data": {
      "text/html": [
       "<div>\n",
       "<style scoped>\n",
       "    .dataframe tbody tr th:only-of-type {\n",
       "        vertical-align: middle;\n",
       "    }\n",
       "\n",
       "    .dataframe tbody tr th {\n",
       "        vertical-align: top;\n",
       "    }\n",
       "\n",
       "    .dataframe thead th {\n",
       "        text-align: right;\n",
       "    }\n",
       "</style>\n",
       "<table border=\"1\" class=\"dataframe\">\n",
       "  <thead>\n",
       "    <tr style=\"text-align: right;\">\n",
       "      <th></th>\n",
       "      <th>year</th>\n",
       "      <th>fileName</th>\n",
       "      <th>text</th>\n",
       "      <th>mecab_preprocessing</th>\n",
       "      <th>keywords</th>\n",
       "    </tr>\n",
       "  </thead>\n",
       "  <tbody>\n",
       "    <tr>\n",
       "      <th>0</th>\n",
       "      <td>2018</td>\n",
       "      <td>한국산업인력공단 지속가능보고서(2017...</td>\n",
       "      <td>지속가능경영 보고서   목차                             보고...</td>\n",
       "      <td>[지속가능경영, 보고서, 목차, 보고서, 개요, 기관, 소개, 지속가능경영, 소개,...</td>\n",
       "      <td>0</td>\n",
       "    </tr>\n",
       "    <tr>\n",
       "      <th>1</th>\n",
       "      <td>2018</td>\n",
       "      <td>LGCNS_Sustainability_Report_2017-2018.pdf.txt</td>\n",
       "      <td>-                                         보고서 ...</td>\n",
       "      <td>[보고서, 개요, 본, 보고서, 는, 가, 발간, 하, 는, 두, 번, 째, 보고서...</td>\n",
       "      <td>0</td>\n",
       "    </tr>\n",
       "    <tr>\n",
       "      <th>2</th>\n",
       "      <td>2018</td>\n",
       "      <td>한국국토정보공사 2017 지속가능경영보ᄀ...</td>\n",
       "      <td>지속가능경영보고서            한 국 국 토 정 보 공 사 지 속 가 능 경...</td>\n",
       "      <td>[지속가능경영, 보, 고서, 한국, 국, 토, 정보, 공사, 지속가능경영, 보, 고...</td>\n",
       "      <td>0</td>\n",
       "    </tr>\n",
       "    <tr>\n",
       "      <th>3</th>\n",
       "      <td>2018</td>\n",
       "      <td>2018 롯데건설 지속가능경영보고서.pdf.txt</td>\n",
       "      <td>롯데건설 지속가능경영보고서   보고서 개요   보고서 특징   롯데건설은     년...</td>\n",
       "      <td>[롯데, 건설, 지속가능경영, 보, 고서, 보, 고서, 개요, 보고서, 특징, 롯데...</td>\n",
       "      <td>0</td>\n",
       "    </tr>\n",
       "    <tr>\n",
       "      <th>4</th>\n",
       "      <td>2018</td>\n",
       "      <td>2018_NH투자증권.pdf.txt</td>\n",
       "      <td>투 자 증 권 지 속 가 능 경 영 보 고 서        서울특별시 영등포구 여의...</td>\n",
       "      <td>[투자, 증권, 지속가능경영, 보, 고, 서, 서울특별시, 영등포구, 여의대, 로,...</td>\n",
       "      <td>0</td>\n",
       "    </tr>\n",
       "  </tbody>\n",
       "</table>\n",
       "</div>"
      ],
      "text/plain": [
       "   year                                           fileName  \\\n",
       "0  2018  한국산업인력공단 지속가능보고서(2017...   \n",
       "1  2018      LGCNS_Sustainability_Report_2017-2018.pdf.txt   \n",
       "2  2018  한국국토정보공사 2017 지속가능경영보ᄀ...   \n",
       "3  2018    2018 롯데건설 지속가능경영보고서.pdf.txt   \n",
       "4  2018                          2018_NH투자증권.pdf.txt   \n",
       "\n",
       "                                                text  \\\n",
       "0  지속가능경영 보고서   목차                             보고...   \n",
       "1  -                                         보고서 ...   \n",
       "2  지속가능경영보고서            한 국 국 토 정 보 공 사 지 속 가 능 경...   \n",
       "3  롯데건설 지속가능경영보고서   보고서 개요   보고서 특징   롯데건설은     년...   \n",
       "4  투 자 증 권 지 속 가 능 경 영 보 고 서        서울특별시 영등포구 여의...   \n",
       "\n",
       "                                 mecab_preprocessing keywords  \n",
       "0  [지속가능경영, 보고서, 목차, 보고서, 개요, 기관, 소개, 지속가능경영, 소개,...        0  \n",
       "1  [보고서, 개요, 본, 보고서, 는, 가, 발간, 하, 는, 두, 번, 째, 보고서...        0  \n",
       "2  [지속가능경영, 보, 고서, 한국, 국, 토, 정보, 공사, 지속가능경영, 보, 고...        0  \n",
       "3  [롯데, 건설, 지속가능경영, 보, 고서, 보, 고서, 개요, 보고서, 특징, 롯데...        0  \n",
       "4  [투자, 증권, 지속가능경영, 보, 고, 서, 서울특별시, 영등포구, 여의대, 로,...        0  "
      ]
     },
     "execution_count": 10,
     "metadata": {},
     "output_type": "execute_result"
    }
   ],
   "source": [
    "tqdm.pandas()\n",
    "\n",
    "df['mecab_preprocessing'] = df['text'].progress_apply(preprocessing_regex_mecab_All)    # tqdm 적용\n",
    "df.head()"
   ]
  },
  {
   "cell_type": "code",
   "execution_count": 11,
   "metadata": {},
   "outputs": [],
   "source": [
    "df.to_csv('mecab_all_before_extracting_keywords.csv', index = False)"
   ]
  },
  {
   "cell_type": "code",
   "execution_count": 24,
   "metadata": {},
   "outputs": [
    {
     "data": {
      "text/plain": [
       "103072"
      ]
     },
     "execution_count": 24,
     "metadata": {},
     "output_type": "execute_result"
    }
   ],
   "source": [
    "len(df.mecab_preprocessing[0])"
   ]
  },
  {
   "cell_type": "markdown",
   "metadata": {},
   "source": [
    "### 키워드 추출"
   ]
  },
  {
   "cell_type": "markdown",
   "metadata": {},
   "source": [
    "summarize_with_keywords(text)와 wordrank_extractor.extract(text, beta, max_iter)는 같은 기능을 함"
   ]
  },
  {
   "cell_type": "code",
   "execution_count": 18,
   "metadata": {},
   "outputs": [],
   "source": [
    "from krwordrank.word import KRWordRank\n",
    "from krwordrank.hangle import normalize      # 숫자, 영어 포함 여부\n",
    "from krwordrank.word import summarize_with_keywords\n",
    "import numpy as np\n",
    "\n",
    "def extract_keywords(text):\n",
    "    error_cnt = 0\n",
    "    try:\n",
    "        min_count = 3       # 단어의 최소 출현 빈도수 (그래프 생성 시) [5, 3]\n",
    "        max_length = 30     # 단어의 최대 길이 [10, 30]\n",
    "        verbose = False     # [True, False]\n",
    "        wordrank_extractor = KRWordRank(min_count, max_length, verbose)\n",
    "\n",
    "        beta = 0.85         # PageRank의 decaying factor beta\n",
    "        max_iter = 30       # [10, 30]\n",
    "\n",
    "#         text = normalize(text, english = False, number = False).split(' ')        # wordrank_extractor.extract() 함수를 쓰려면 text가 List 형태여야 함\n",
    "        keywords, rank, graph = wordrank_extractor.extract(text, beta, max_iter)\n",
    "\n",
    "#         stopwords = {'대한','의견','단어'}\n",
    "#         keywords = summarize_with_keywords(text, min_count = 3, max_length = 30, beta = 0.85, max_iter = 30, stopwords = stopwords, verbose = True)\n",
    "#         keywords = summarize_with_keywords(text)    # with default arguments\n",
    "        result = sorted(keywords.items(), key = lambda x:x[1], reverse = True)\n",
    "\n",
    "        # return [result[x][0] for x in range(len(result))]   # 단어만\n",
    "        return result                                         # 단어 + 점수\n",
    "    \n",
    "    except:\n",
    "        error_cnt += 1\n",
    "        print(error_cnt)\n",
    "        \n",
    "        return np.nan"
   ]
  },
  {
   "cell_type": "code",
   "execution_count": 19,
   "metadata": {},
   "outputs": [
    {
     "name": "stderr",
     "output_type": "stream",
     "text": [
      "/opt/anaconda3/lib/python3.8/site-packages/tqdm/std.py:697: FutureWarning: The Panel class is removed from pandas. Accessing it from the top-level namespace will also be removed in the next version\n",
      "  from pandas import Panel\n",
      "100%|██████████| 236/236 [00:44<00:00,  5.26it/s]\n"
     ]
    },
    {
     "data": {
      "text/html": [
       "<div>\n",
       "<style scoped>\n",
       "    .dataframe tbody tr th:only-of-type {\n",
       "        vertical-align: middle;\n",
       "    }\n",
       "\n",
       "    .dataframe tbody tr th {\n",
       "        vertical-align: top;\n",
       "    }\n",
       "\n",
       "    .dataframe thead th {\n",
       "        text-align: right;\n",
       "    }\n",
       "</style>\n",
       "<table border=\"1\" class=\"dataframe\">\n",
       "  <thead>\n",
       "    <tr style=\"text-align: right;\">\n",
       "      <th></th>\n",
       "      <th>year</th>\n",
       "      <th>fileName</th>\n",
       "      <th>text</th>\n",
       "      <th>mecab_preprocessing</th>\n",
       "      <th>keywords</th>\n",
       "    </tr>\n",
       "  </thead>\n",
       "  <tbody>\n",
       "    <tr>\n",
       "      <th>0</th>\n",
       "      <td>2018</td>\n",
       "      <td>한국산업인력공단 지속가능보고서(2017...</td>\n",
       "      <td>지속가능경영 보고서   목차                             보고...</td>\n",
       "      <td>[지속가능경영, 보고서, 목차, 보고서, 개요, 기관, 소개, 지속가능경영, 소개,...</td>\n",
       "      <td>[(습니, 3.0401799665635765), (근로, 2.395539242629...</td>\n",
       "    </tr>\n",
       "    <tr>\n",
       "      <th>1</th>\n",
       "      <td>2018</td>\n",
       "      <td>LGCNS_Sustainability_Report_2017-2018.pdf.txt</td>\n",
       "      <td>-                                         보고서 ...</td>\n",
       "      <td>[보고서, 개요, 본, 보고서, 는, 가, 발간, 하, 는, 두, 번, 째, 보고서...</td>\n",
       "      <td>[(서비, 5.429065331331732), (프로, 3.5150395830954...</td>\n",
       "    </tr>\n",
       "    <tr>\n",
       "      <th>2</th>\n",
       "      <td>2018</td>\n",
       "      <td>한국국토정보공사 2017 지속가능경영보ᄀ...</td>\n",
       "      <td>지속가능경영보고서            한 국 국 토 정 보 공 사 지 속 가 능 경...</td>\n",
       "      <td>[지속가능경영, 보, 고서, 한국, 국, 토, 정보, 공사, 지속가능경영, 보, 고...</td>\n",
       "      <td>[(습니, 4.040246066021655), (정보, 3.2757181262809...</td>\n",
       "    </tr>\n",
       "    <tr>\n",
       "      <th>3</th>\n",
       "      <td>2018</td>\n",
       "      <td>2018 롯데건설 지속가능경영보고서.pdf.txt</td>\n",
       "      <td>롯데건설 지속가능경영보고서   보고서 개요   보고서 특징   롯데건설은     년...</td>\n",
       "      <td>[롯데, 건설, 지속가능경영, 보, 고서, 보, 고서, 개요, 보고서, 특징, 롯데...</td>\n",
       "      <td>[(롯데, 3.9183914703323666), (습니, 3.234967650112...</td>\n",
       "    </tr>\n",
       "    <tr>\n",
       "      <th>4</th>\n",
       "      <td>2018</td>\n",
       "      <td>2018_NH투자증권.pdf.txt</td>\n",
       "      <td>투 자 증 권 지 속 가 능 경 영 보 고 서        서울특별시 영등포구 여의...</td>\n",
       "      <td>[투자, 증권, 지속가능경영, 보, 고, 서, 서울특별시, 영등포구, 여의대, 로,...</td>\n",
       "      <td>[(금융, 10.565933996219501), (습니, 3.754872400485...</td>\n",
       "    </tr>\n",
       "  </tbody>\n",
       "</table>\n",
       "</div>"
      ],
      "text/plain": [
       "   year                                           fileName  \\\n",
       "0  2018  한국산업인력공단 지속가능보고서(2017...   \n",
       "1  2018      LGCNS_Sustainability_Report_2017-2018.pdf.txt   \n",
       "2  2018  한국국토정보공사 2017 지속가능경영보ᄀ...   \n",
       "3  2018    2018 롯데건설 지속가능경영보고서.pdf.txt   \n",
       "4  2018                          2018_NH투자증권.pdf.txt   \n",
       "\n",
       "                                                text  \\\n",
       "0  지속가능경영 보고서   목차                             보고...   \n",
       "1  -                                         보고서 ...   \n",
       "2  지속가능경영보고서            한 국 국 토 정 보 공 사 지 속 가 능 경...   \n",
       "3  롯데건설 지속가능경영보고서   보고서 개요   보고서 특징   롯데건설은     년...   \n",
       "4  투 자 증 권 지 속 가 능 경 영 보 고 서        서울특별시 영등포구 여의...   \n",
       "\n",
       "                                 mecab_preprocessing  \\\n",
       "0  [지속가능경영, 보고서, 목차, 보고서, 개요, 기관, 소개, 지속가능경영, 소개,...   \n",
       "1  [보고서, 개요, 본, 보고서, 는, 가, 발간, 하, 는, 두, 번, 째, 보고서...   \n",
       "2  [지속가능경영, 보, 고서, 한국, 국, 토, 정보, 공사, 지속가능경영, 보, 고...   \n",
       "3  [롯데, 건설, 지속가능경영, 보, 고서, 보, 고서, 개요, 보고서, 특징, 롯데...   \n",
       "4  [투자, 증권, 지속가능경영, 보, 고, 서, 서울특별시, 영등포구, 여의대, 로,...   \n",
       "\n",
       "                                            keywords  \n",
       "0  [(습니, 3.0401799665635765), (근로, 2.395539242629...  \n",
       "1  [(서비, 5.429065331331732), (프로, 3.5150395830954...  \n",
       "2  [(습니, 4.040246066021655), (정보, 3.2757181262809...  \n",
       "3  [(롯데, 3.9183914703323666), (습니, 3.234967650112...  \n",
       "4  [(금융, 10.565933996219501), (습니, 3.754872400485...  "
      ]
     },
     "execution_count": 19,
     "metadata": {},
     "output_type": "execute_result"
    }
   ],
   "source": [
    "tqdm.pandas()\n",
    "\n",
    "df['keywords'] = df['mecab_preprocessing'].progress_apply(extract_keywords)    # tqdm 적용\n",
    "df.head()"
   ]
  },
  {
   "cell_type": "code",
   "execution_count": 20,
   "metadata": {},
   "outputs": [],
   "source": [
    "df.to_csv('mecab_all_after_keywords.csv', index = False)"
   ]
  },
  {
   "cell_type": "markdown",
   "metadata": {},
   "source": [
    "### 중복 키워드 확인"
   ]
  },
  {
   "cell_type": "code",
   "execution_count": 22,
   "metadata": {},
   "outputs": [
    {
     "data": {
      "text/plain": [
       "1"
      ]
     },
     "execution_count": 22,
     "metadata": {},
     "output_type": "execute_result"
    }
   ],
   "source": [
    "keyword_counter = {}\n",
    "\n",
    "for keywords in df.keywords:\n",
    "    words, ranks = zip(*keywords)\n",
    "    for word in words:\n",
    "        keyword_counter[word] = keyword_counter.get(word, 0) + 1\n",
    "\n",
    "common_keywords = {word for word, count in keyword_counter.items() if count == len(df)}    # 모든 보고서에 등장하는 키워드\n",
    "len(common_keywords)"
   ]
  },
  {
   "cell_type": "code",
   "execution_count": 23,
   "metadata": {},
   "outputs": [
    {
     "data": {
      "text/plain": [
       "{'보고'}"
      ]
     },
     "execution_count": 23,
     "metadata": {},
     "output_type": "execute_result"
    }
   ],
   "source": [
    "common_keywords"
   ]
  },
  {
   "cell_type": "code",
   "execution_count": 24,
   "metadata": {},
   "outputs": [
    {
     "data": {
      "text/plain": [
       "5727"
      ]
     },
     "execution_count": 24,
     "metadata": {},
     "output_type": "execute_result"
    }
   ],
   "source": [
    "len(keyword_counter)"
   ]
  },
  {
   "cell_type": "code",
   "execution_count": 25,
   "metadata": {},
   "outputs": [
    {
     "data": {
      "text/plain": [
       "[('보고', 236),\n",
       " ('습니', 235),\n",
       " ('서비', 235),\n",
       " ('시스', 235),\n",
       " ('사업', 235),\n",
       " ('으로', 235),\n",
       " ('가능', 235),\n",
       " ('입니', 234),\n",
       " ('환경', 234),\n",
       " ('관리', 233)]"
      ]
     },
     "execution_count": 25,
     "metadata": {},
     "output_type": "execute_result"
    }
   ],
   "source": [
    "keyword_counter = sorted(keyword_counter.items(), key = lambda x:x[1], reverse = True)\n",
    "keyword_counter = list(keyword_counter)\n",
    "keyword_counter[:10]"
   ]
  },
  {
   "cell_type": "markdown",
   "metadata": {},
   "source": [
    "### 키워드 EDA"
   ]
  },
  {
   "cell_type": "code",
   "execution_count": 30,
   "metadata": {},
   "outputs": [
    {
     "data": {
      "text/plain": [
       "<matplotlib.legend.Legend at 0x7fc8029d48b0>"
      ]
     },
     "execution_count": 30,
     "metadata": {},
     "output_type": "execute_result"
    },
    {
     "data": {
      "image/png": "[encoded data removed]",
      "text/plain": [
       "<Figure size 864x504 with 1 Axes>"
      ]
     },
     "metadata": {
      "needs_background": "light"
     },
     "output_type": "display_data"
    }
   ],
   "source": [
    "import matplotlib.pyplot as plt\n",
    "import seaborn as sns\n",
    "\n",
    "plt.figure(figsize = (12, 7))\n",
    "sns.distplot(list(zip(*keyword_counter))[1], label = \"count of keywords\")\n",
    "plt.xlim(0, 240)\n",
    "plt.legend()"
   ]
  },
  {
   "cell_type": "code",
   "execution_count": 28,
   "metadata": {},
   "outputs": [
    {
     "data": {
      "text/plain": [
       "count    5727.000000\n",
       "mean       16.996508\n",
       "std        38.794163\n",
       "min         1.000000\n",
       "25%         1.000000\n",
       "50%         3.000000\n",
       "75%        11.000000\n",
       "max       236.000000\n",
       "Name: count, dtype: float64"
      ]
     },
     "execution_count": 28,
     "metadata": {},
     "output_type": "execute_result"
    }
   ],
   "source": [
    "df_keyword_cnt = pd.DataFrame(list(zip(*keyword_counter))[1], columns = ['count'])\n",
    "df_keyword_cnt['count'].describe()"
   ]
  },
  {
   "cell_type": "code",
   "execution_count": null,
   "metadata": {},
   "outputs": [],
   "source": []
  }
 ],
 "metadata": {
  "kernelspec": {
   "display_name": "Python 3",
   "language": "python",
   "name": "python3"
  },
  "language_info": {
   "codemirror_mode": {
    "name": "ipython",
    "version": 3
   },
   "file_extension": ".py",
   "mimetype": "text/x-python",
   "name": "python",
   "nbconvert_exporter": "python",
   "pygments_lexer": "ipython3",
   "version": "3.8.5"
  }
 },
 "nbformat": 4,
 "nbformat_minor": 4
}
